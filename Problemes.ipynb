{
 "cells": [
  {
   "cell_type": "markdown",
   "metadata": {},
   "source": [
    "# Problemes\n",
    "## Sessió 1"
   ]
  },
  {
   "cell_type": "markdown",
   "metadata": {},
   "source": [
    "### Exercicis amb <code> input </code> i <code> print </code>\n",
    "#### Problema 1"
   ]
  },
  {
   "cell_type": "code",
   "execution_count": 51,
   "metadata": {},
   "outputs": [
    {
     "name": "stdout",
     "output_type": "stream",
     "text": [
      "2\n"
     ]
    }
   ],
   "source": [
    "x=1\n",
    "x+=1\n",
    "print(x)"
   ]
  },
  {
   "cell_type": "markdown",
   "metadata": {},
   "source": [
    "#### Problema 2 i 5"
   ]
  },
  {
   "cell_type": "code",
   "execution_count": 61,
   "metadata": {},
   "outputs": [
    {
     "name": "stdout",
     "output_type": "stream",
     "text": [
      "Num: 1\n",
      "Número entrat és: 1\n"
     ]
    }
   ],
   "source": [
    "x=int(input(\"Num: \"))\n",
    "print(\"El num és:\",x)"
   ]
  },
  {
   "cell_type": "markdown",
   "metadata": {},
   "source": [
    "#### Problema 3 i 4"
   ]
  },
  {
   "cell_type": "code",
   "execution_count": 62,
   "metadata": {},
   "outputs": [
    {
     "name": "stdout",
     "output_type": "stream",
     "text": [
      "Entra un número\n"
     ]
    }
   ],
   "source": [
    "print(\"Entra un número\")"
   ]
  },
  {
   "cell_type": "markdown",
   "metadata": {},
   "source": [
    "Les diferències entre utilitzar print o input és que la funció print només mostra el contingut introduit dins de la funció sense tindre cap altra funcionalitat. Però, la funció input mostra també per pantalla la cadena entrada i, a més, serveix per retornar una string o cadena de caracters que es el introduit per consola."
   ]
  },
  {
   "cell_type": "markdown",
   "metadata": {},
   "source": [
    "#### Problema 6"
   ]
  },
  {
   "cell_type": "code",
   "execution_count": 65,
   "metadata": {},
   "outputs": [
    {
     "name": "stdout",
     "output_type": "stream",
     "text": [
      "1 \n",
      "2\n"
     ]
    }
   ],
   "source": [
    "print(\"1 \\n2\")"
   ]
  },
  {
   "cell_type": "markdown",
   "metadata": {},
   "source": [
    "### Exercicis amb <code> int() </code> i <code> float() </code>\n",
    "#### Problema 7"
   ]
  },
  {
   "cell_type": "code",
   "execution_count": 66,
   "metadata": {},
   "outputs": [
    {
     "name": "stdout",
     "output_type": "stream",
     "text": [
      "Long base (cm): 2\n",
      "Long altura (cm): 2\n",
      "Area rectangle: 4 cm\n"
     ]
    }
   ],
   "source": [
    "x=int(input(\"Long base (cm): \"))\n",
    "y=int(input(\"Long altura (cm): \"))\n",
    "print(\"Area rectangle:\",x*y,\"cm\")"
   ]
  },
  {
   "cell_type": "markdown",
   "metadata": {},
   "source": [
    "#### Problema 8"
   ]
  },
  {
   "cell_type": "code",
   "execution_count": 67,
   "metadata": {},
   "outputs": [
    {
     "name": "stdout",
     "output_type": "stream",
     "text": [
      "Àrea cercle: π·r**2\n"
     ]
    }
   ],
   "source": [
    "print(\"Àrea cercle: π·r**2\")"
   ]
  },
  {
   "cell_type": "markdown",
   "metadata": {},
   "source": [
    "#### Problema 9"
   ]
  },
  {
   "cell_type": "code",
   "execution_count": 70,
   "metadata": {},
   "outputs": [
    {
     "name": "stdout",
     "output_type": "stream",
     "text": [
      "Escollis entre\n",
      "1. Àrea d'un rectangle\n",
      "2. Àrea d'un cercle2\n",
      "Has escollit l'area d'un cercle\n"
     ]
    }
   ],
   "source": [
    "x=int(input(\"Escollis entre\\n1. Àrea d'un rectangle\\n2. Àrea d'un cercle\"))\n",
    "if x==1:\n",
    "    print(\"Has escollit l'àrea d'un rectangle\")\n",
    "else:\n",
    "    print(\"Has escollit l'area d'un cercle\")"
   ]
  },
  {
   "cell_type": "markdown",
   "metadata": {},
   "source": [
    "### Exercicis amb <code> if, if...else, elif </code>"
   ]
  },
  {
   "cell_type": "markdown",
   "metadata": {},
   "source": [
    "#### Problema 10 i 11"
   ]
  },
  {
   "cell_type": "code",
   "execution_count": 1,
   "metadata": {},
   "outputs": [
    {
     "name": "stdout",
     "output_type": "stream",
     "text": [
      "Menú:\n",
      "1-Àrea rectangle\n",
      "2-Àrea triangle\n",
      "3-Àrea d'un cercle3\n",
      "Radi (cm):1\n",
      "Àrea cercle:  3.14 cm2\n"
     ]
    }
   ],
   "source": [
    "opcio=int(input(\"Menú:\\n1-Àrea rectangle\\n2-Àrea triangle\\n3-Àrea d'un cercle\"))\n",
    "\n",
    "if opcio==1:\n",
    "    x1=int(input(\"Long base (cm): \"))\n",
    "    y1=int(input(\"Long altura (cm): \"))\n",
    "    print(\"Àrea rectangle:\",x1*y1,\"cm2\")\n",
    "elif opcio==2:\n",
    "    x2=int(input(\"Long base (cm): \"))\n",
    "    y2=int(input(\"Long altura (cm): \"))\n",
    "    print(\"Àrea triangle:\",x2*y2/2,\"cm2\")\n",
    "else:\n",
    "    pi=3.14\n",
    "    r=int(input(\"Radi (cm):\"))\n",
    "    print(\"Àrea cercle: \",pi*r**2,\"cm2\")"
   ]
  },
  {
   "cell_type": "markdown",
   "metadata": {},
   "source": [
    "#### Problema 12"
   ]
  },
  {
   "cell_type": "code",
   "execution_count": 81,
   "metadata": {},
   "outputs": [
    {
     "name": "stdout",
     "output_type": "stream",
     "text": [
      "Entra pes (kg): 75\n",
      "Entra altura (m): 1.8\n",
      "IMC: 23.15 \n",
      "Pes normal\n"
     ]
    }
   ],
   "source": [
    "pes=float(input(\"Entra pes (kg): \"))\n",
    "alt=float(input(\"Entra altura (m): \"))\n",
    "IMC=pes/(alt**2)\n",
    "\n",
    "if IMC<=18.5: \n",
    "    print(\"IMC:\",round(IMC,2),\"-> Pes baix\")\n",
    "elif IMC>18.5 and IMC<=25:\n",
    "    print(\"IMC:\",round(IMC,2),\"\\nPes normal\")\n",
    "elif IMC>25 and IMC<=30:\n",
    "    print(\"IMC:\",round(IMC,2),\"\\nSobrepès\")\n",
    "else:\n",
    "    print(\"IMC:\",round(IMC,2),\"\\nObesitat\")\n",
    "    "
   ]
  },
  {
   "cell_type": "markdown",
   "metadata": {},
   "source": [
    "#### Problema 13"
   ]
  },
  {
   "cell_type": "code",
   "execution_count": null,
   "metadata": {},
   "outputs": [],
   "source": [
    "x=float(input(\"Num 1:\"))\n",
    "y=float(input(\"Num 2:\"))\n",
    "\n",
    "if x==y:\n",
    "    print(\"Són iguals\")\n",
    "else: \n",
    "    print(\"Són diferents\")"
   ]
  },
  {
   "cell_type": "markdown",
   "metadata": {},
   "source": [
    "#### Problema 14"
   ]
  },
  {
   "cell_type": "code",
   "execution_count": 83,
   "metadata": {},
   "outputs": [
    {
     "name": "stdout",
     "output_type": "stream",
     "text": [
      "Edat: 20\n",
      "Major d'edat\n"
     ]
    }
   ],
   "source": [
    "edat=int(input(\"Edat: \"))\n",
    "\n",
    "if edat>=18:\n",
    "    print(\"Major d'edat\")\n",
    "else:\n",
    "    print(\"Menor d'edat\")"
   ]
  },
  {
   "cell_type": "markdown",
   "metadata": {},
   "source": [
    "## Sessió 2"
   ]
  },
  {
   "cell_type": "markdown",
   "metadata": {},
   "source": [
    "#### Problema 1"
   ]
  },
  {
   "cell_type": "code",
   "execution_count": 3,
   "metadata": {},
   "outputs": [
    {
     "name": "stdout",
     "output_type": "stream",
     "text": [
      "Num: 11\n",
      "El nombre 11.0 és més gran que 10\n"
     ]
    }
   ],
   "source": [
    "def mesgran10(x):\n",
    "    if x>10:\n",
    "        return(print(\"El nombre\",x,\"és més gran que 10\"))\n",
    "    \n",
    "x=float(input(\"Num: \"))\n",
    "mesgran10(x)"
   ]
  },
  {
   "cell_type": "markdown",
   "metadata": {},
   "source": [
    "#### Problema 2"
   ]
  },
  {
   "cell_type": "code",
   "execution_count": 49,
   "metadata": {},
   "outputs": [
    {
     "name": "stdout",
     "output_type": "stream",
     "text": [
      "Num1:3\n",
      "Num2:2\n",
      "No són iguals a 3\n"
     ]
    }
   ],
   "source": [
    "x=int(input(\"Num1:\"))\n",
    "y=int(input(\"Num2:\"))\n",
    "if x==3 and y==3:\n",
    "    print(\"Els dos nombres són iguals a 3\")\n",
    "else: \n",
    "    print(\"Els dos nombres NO són iguals a 3\")"
   ]
  },
  {
   "cell_type": "markdown",
   "metadata": {},
   "source": [
    "#### Problema 3"
   ]
  },
  {
   "cell_type": "code",
   "execution_count": 50,
   "metadata": {},
   "outputs": [
    {
     "name": "stdout",
     "output_type": "stream",
     "text": [
      "Num1:2\n",
      "Num2:2\n",
      "Nombres iguals\n"
     ]
    }
   ],
   "source": [
    "x=int(input(\"Num1:\"))\n",
    "y=int(input(\"Num2:\"))\n",
    "if x==y:\n",
    "    print(\"Nombres iguals\")\n",
    "else:\n",
    "    print(\"Nombres diferents\")"
   ]
  },
  {
   "cell_type": "markdown",
   "metadata": {},
   "source": [
    "#### Problema 4"
   ]
  },
  {
   "cell_type": "code",
   "execution_count": 1,
   "metadata": {},
   "outputs": [
    {
     "name": "stdout",
     "output_type": "stream",
     "text": [
      "Num 1: 1\n",
      "Num 2: 3\n",
      "Almenys un d'ells és 3\n"
     ]
    }
   ],
   "source": [
    "x = int(input(\"Num 1: \"))\n",
    "y = int(input(\"Num 2: \"))\n",
    "if x==3 and y==3:\n",
    "    print(\"Els dos nombres són 3\")\n",
    "elif x==3 or y==3:\n",
    "    print(\"Almenys un d'ells és 3\")\n",
    "else:\n",
    "    print(\"Cap és 3\")"
   ]
  },
  {
   "cell_type": "markdown",
   "metadata": {},
   "source": [
    "#### Problema 5"
   ]
  },
  {
   "cell_type": "code",
   "execution_count": 4,
   "metadata": {},
   "outputs": [
    {
     "name": "stdout",
     "output_type": "stream",
     "text": [
      "Num: 10\n",
      "És un nombre positiu\n"
     ]
    }
   ],
   "source": [
    "def p(x):\n",
    "    if x<0:\n",
    "        print(\"És un nombre negatiu\")\n",
    "    elif x==0:\n",
    "        print(\"És zero\")\n",
    "    else: \n",
    "        print(\"És un nombre positiu\")\n",
    "\n",
    "x=float(input(\"Num: \"))\n",
    "p(x)"
   ]
  },
  {
   "cell_type": "markdown",
   "metadata": {},
   "source": [
    "#### Problema 6"
   ]
  },
  {
   "cell_type": "code",
   "execution_count": 8,
   "metadata": {},
   "outputs": [],
   "source": [
    "def valorabs(x):\n",
    "    if(x>=0):\n",
    "        return(x)\n",
    "    else: return(-x)\n",
    "    \n",
    "def valorabs_exp(x):\n",
    "    if(x>=0):\n",
    "        return(print(\"El valor absolut de\",x,\"és\",x))\n",
    "    else: return(print(\"El valor absolut de\",x,\"és\",-x))"
   ]
  },
  {
   "cell_type": "code",
   "execution_count": 10,
   "metadata": {},
   "outputs": [
    {
     "name": "stdout",
     "output_type": "stream",
     "text": [
      "Num: -2000\n"
     ]
    },
    {
     "data": {
      "text/plain": [
       "2000"
      ]
     },
     "execution_count": 10,
     "metadata": {},
     "output_type": "execute_result"
    }
   ],
   "source": [
    "x = int(input(\"Num: \"))\n",
    "valorabs(x)"
   ]
  },
  {
   "cell_type": "code",
   "execution_count": 9,
   "metadata": {},
   "outputs": [
    {
     "name": "stdout",
     "output_type": "stream",
     "text": [
      "Num: -9\n",
      "El valor absolut de -9 és 9\n"
     ]
    }
   ],
   "source": [
    "x = int(input(\"Num: \"))\n",
    "valorabs_exp(x)"
   ]
  },
  {
   "cell_type": "markdown",
   "metadata": {},
   "source": [
    "#### Problema 7"
   ]
  },
  {
   "cell_type": "code",
   "execution_count": 11,
   "metadata": {},
   "outputs": [],
   "source": [
    "def maxim(x,y):\n",
    "    if(x>y):\n",
    "        return(x)\n",
    "    else: return(y)"
   ]
  },
  {
   "cell_type": "code",
   "execution_count": 13,
   "metadata": {},
   "outputs": [
    {
     "name": "stdout",
     "output_type": "stream",
     "text": [
      "Num 1:2\n",
      "Num 2:-4\n"
     ]
    },
    {
     "data": {
      "text/plain": [
       "2"
      ]
     },
     "execution_count": 13,
     "metadata": {},
     "output_type": "execute_result"
    }
   ],
   "source": [
    "x = int(input(\"Num 1:\"))\n",
    "y = int(input(\"Num 2:\"))\n",
    "maxim(x,y)"
   ]
  },
  {
   "cell_type": "markdown",
   "metadata": {},
   "source": [
    "#### Problema 8"
   ]
  },
  {
   "cell_type": "code",
   "execution_count": 18,
   "metadata": {},
   "outputs": [],
   "source": [
    "def IVA_afegit(preu,iva):\n",
    "    return(preu+preu*iva/100)"
   ]
  },
  {
   "cell_type": "code",
   "execution_count": 32,
   "metadata": {},
   "outputs": [
    {
     "name": "stdout",
     "output_type": "stream",
     "text": [
      "Preu del producte:20\n",
      "IVA:1\n",
      "PVP: 20.2\n"
     ]
    }
   ],
   "source": [
    "x=float(input(\"Preu del producte:\"))\n",
    "y=float(input(\"IVA:\"))\n",
    "print(\"PVP:\",IVA_afegit(x,y))"
   ]
  },
  {
   "cell_type": "markdown",
   "metadata": {},
   "source": [
    "#### Problema 9"
   ]
  },
  {
   "cell_type": "code",
   "execution_count": 27,
   "metadata": {},
   "outputs": [
    {
     "name": "stdout",
     "output_type": "stream",
     "text": [
      "1\n",
      "2\n",
      "3\n"
     ]
    }
   ],
   "source": [
    "i=1\n",
    "while i<=3:\n",
    "    print(i)\n",
    "    i+=1"
   ]
  },
  {
   "cell_type": "markdown",
   "metadata": {},
   "source": [
    "#### Problema 10"
   ]
  },
  {
   "cell_type": "code",
   "execution_count": 29,
   "metadata": {},
   "outputs": [
    {
     "name": "stdout",
     "output_type": "stream",
     "text": [
      "1\n",
      "2\n",
      "3\n",
      "4\n",
      "5\n",
      "6\n",
      "7\n",
      "8\n",
      "9\n",
      "10\n"
     ]
    }
   ],
   "source": [
    "i=1\n",
    "while i<=10:\n",
    "    print(i)\n",
    "    i+=1"
   ]
  },
  {
   "cell_type": "markdown",
   "metadata": {},
   "source": [
    "#### Problema 11"
   ]
  },
  {
   "cell_type": "code",
   "execution_count": 36,
   "metadata": {},
   "outputs": [
    {
     "name": "stdout",
     "output_type": "stream",
     "text": [
      "Num: 5\n",
      "1\n",
      "2\n",
      "3\n",
      "4\n",
      "5\n"
     ]
    }
   ],
   "source": [
    "i=1\n",
    "n=int(input(\"Num: \"))\n",
    "if n>=1:\n",
    "    while i<=n:\n",
    "        print(i)\n",
    "        i+=1\n",
    "else: \n",
    "    print(\"No es un nombre major que 1\")"
   ]
  },
  {
   "cell_type": "markdown",
   "metadata": {},
   "source": [
    "#### Problema 12"
   ]
  },
  {
   "cell_type": "code",
   "execution_count": 37,
   "metadata": {},
   "outputs": [
    {
     "name": "stdout",
     "output_type": "stream",
     "text": [
      "Num inici:2\n",
      "Num final:4\n",
      "2\n",
      "3\n",
      "4\n"
     ]
    }
   ],
   "source": [
    "n1=int(input(\"Num inici:\"))\n",
    "n2=int(input(\"Num final:\"))\n",
    "i=n1\n",
    "while i<=n2:\n",
    "    print(i)\n",
    "    i+=1"
   ]
  },
  {
   "cell_type": "markdown",
   "metadata": {},
   "source": [
    "#### Problema 13"
   ]
  },
  {
   "cell_type": "code",
   "execution_count": 40,
   "metadata": {},
   "outputs": [
    {
     "name": "stdout",
     "output_type": "stream",
     "text": [
      "Num inici:1\n",
      "Num final:5\n",
      "1\n",
      "2\n",
      "3\n",
      "4\n",
      "5\n"
     ]
    }
   ],
   "source": [
    "def seq(n1,n2):\n",
    "    i=n1\n",
    "    while i<=n2:\n",
    "        print(i)\n",
    "        i+=1\n",
    "        \n",
    "n1=int(input(\"Num inici:\"))\n",
    "n2=int(input(\"Num final:\"))\n",
    "   \n",
    "seq(n1,n2)"
   ]
  },
  {
   "cell_type": "markdown",
   "metadata": {},
   "source": [
    "#### Programa 14"
   ]
  },
  {
   "cell_type": "code",
   "execution_count": 42,
   "metadata": {},
   "outputs": [
    {
     "name": "stdout",
     "output_type": "stream",
     "text": [
      "Num entre 1-10:2\n",
      "Num correcte\n"
     ]
    }
   ],
   "source": [
    "x=int(input(\"Num entre 1-10:\"))\n",
    "while x<1 or x>10:\n",
    "    print(\"ERROR: Número introduit incorrecte\")\n",
    "    x=int(input(\"Torna a introduir un num: \"))\n",
    "print(\"Num correcte\")"
   ]
  },
  {
   "cell_type": "markdown",
   "metadata": {},
   "source": [
    "#### Problema 15"
   ]
  },
  {
   "cell_type": "code",
   "execution_count": 52,
   "metadata": {},
   "outputs": [
    {
     "name": "stdout",
     "output_type": "stream",
     "text": [
      "Num entre 1-10:0\n",
      "ERROR: Número introduit incorrecte\n",
      "Torna a introduir un num: 0\n",
      "ERROR: Número introduit incorrecte\n",
      "Torna a introduir un num: 1\n",
      "Has entrat 2 nombres erronis abans d'aquest\n"
     ]
    }
   ],
   "source": [
    "x=int(input(\"Num entre 1-10:\"))\n",
    "cont=0\n",
    "while x<1 or x>10:\n",
    "    print(\"ERROR: Número introduit incorrecte\")\n",
    "    cont+=1\n",
    "    x=int(input(\"Torna a introduir un num: \"))\n",
    "    \n",
    "print(\"Has entrat\",cont,\"nombres erronis abans d'aquest\")"
   ]
  },
  {
   "cell_type": "markdown",
   "metadata": {},
   "source": [
    "#### Problema 16"
   ]
  },
  {
   "cell_type": "code",
   "execution_count": 47,
   "metadata": {},
   "outputs": [
    {
     "name": "stdout",
     "output_type": "stream",
     "text": [
      "Num entre 1-10:0\n",
      "ERROR: Número introduit incorrecte\n",
      "Torna a introduir un num: 0\n",
      "ERROR: Número introduit incorrecte\n",
      "Torna a introduir un num: 0\n",
      "ERROR: Número introduit incorrecte\n",
      "Torna a introduir un num: 1\n",
      "Has entrat 3 nombres erronis abans d'aquest\n"
     ]
    }
   ],
   "source": [
    "def errors():\n",
    "    x=int(input(\"Num entre 1-10:\"))\n",
    "    cont=0\n",
    "    while x<1 or x>10:\n",
    "        print(\"ERROR: Número introduit incorrecte\")\n",
    "        cont+=1\n",
    "        x=int(input(\"Torna a introduir un num: \"))\n",
    "    return(cont)\n",
    "    \n",
    "print(\"Has entrat\",errors(),\"nombres erronis abans d'aquest\")"
   ]
  },
  {
   "cell_type": "code",
   "execution_count": 57,
   "metadata": {},
   "outputs": [
    {
     "name": "stdout",
     "output_type": "stream",
     "text": [
      "[1, 2, 3, 4, 5, 6, 7, 8, 9, 10]\n"
     ]
    }
   ],
   "source": [
    "print(list(range(1,11)))"
   ]
  },
  {
   "cell_type": "markdown",
   "metadata": {},
   "source": [
    "Es pot crear un llista fora dels bucles if/for amb range(inicial, final+1) com a argument de list() per a que cree la llista. \n",
    "\n",
    "Es podria fer \"if i in range(inicial, final+1)\" recorre tota els valor de inicial fins final."
   ]
  },
  {
   "cell_type": "markdown",
   "metadata": {},
   "source": [
    "## Sessió 3\n",
    "### Problema 1\n",
    "#### (a) Bucle while"
   ]
  },
  {
   "cell_type": "code",
   "execution_count": 1,
   "metadata": {},
   "outputs": [
    {
     "name": "stdout",
     "output_type": "stream",
     "text": [
      "1\n",
      "2\n",
      "3\n",
      "4\n",
      "5\n",
      "6\n",
      "7\n",
      "8\n",
      "9\n",
      "10\n"
     ]
    }
   ],
   "source": [
    "i=1\n",
    "while i<=10:\n",
    "    print(i)\n",
    "    i+=1\n"
   ]
  },
  {
   "cell_type": "markdown",
   "metadata": {},
   "source": [
    "#### (b) Bucle for"
   ]
  },
  {
   "cell_type": "code",
   "execution_count": 2,
   "metadata": {},
   "outputs": [
    {
     "name": "stdout",
     "output_type": "stream",
     "text": [
      "1\n",
      "2\n",
      "3\n",
      "4\n",
      "5\n",
      "6\n",
      "7\n",
      "8\n",
      "9\n",
      "10\n"
     ]
    }
   ],
   "source": [
    "for i in range(1,11):\n",
    "    print(i)   "
   ]
  },
  {
   "cell_type": "markdown",
   "metadata": {},
   "source": [
    "### Problema 2\n",
    "#### (a) Bucle while"
   ]
  },
  {
   "cell_type": "code",
   "execution_count": 3,
   "metadata": {},
   "outputs": [
    {
     "name": "stdout",
     "output_type": "stream",
     "text": [
      "10\n",
      "9\n",
      "8\n",
      "7\n",
      "6\n",
      "5\n",
      "4\n",
      "3\n",
      "2\n",
      "1\n"
     ]
    }
   ],
   "source": [
    "i=10\n",
    "while i>=1:\n",
    "    print(i)\n",
    "    i-=1"
   ]
  },
  {
   "cell_type": "markdown",
   "metadata": {},
   "source": [
    "#### (b) Bucle for"
   ]
  },
  {
   "cell_type": "code",
   "execution_count": 4,
   "metadata": {},
   "outputs": [
    {
     "name": "stdout",
     "output_type": "stream",
     "text": [
      "10\n",
      "9\n",
      "8\n",
      "7\n",
      "6\n",
      "5\n",
      "4\n",
      "3\n",
      "2\n",
      "1\n"
     ]
    }
   ],
   "source": [
    "for i in range(10):\n",
    "    print(10-i)"
   ]
  },
  {
   "cell_type": "code",
   "execution_count": 7,
   "metadata": {},
   "outputs": [
    {
     "name": "stdout",
     "output_type": "stream",
     "text": [
      "10\n",
      "9\n",
      "8\n",
      "7\n",
      "6\n",
      "5\n",
      "4\n",
      "3\n",
      "2\n",
      "1\n"
     ]
    }
   ],
   "source": [
    "for i in range(10,0,-1):\n",
    "    print(i)"
   ]
  },
  {
   "cell_type": "markdown",
   "metadata": {},
   "source": [
    "Es pot introduir en el range(inici,final,step); on step es el pas que dona des de inicia per arribar a final "
   ]
  },
  {
   "cell_type": "markdown",
   "metadata": {},
   "source": [
    "### Problema 3"
   ]
  },
  {
   "cell_type": "code",
   "execution_count": 6,
   "metadata": {},
   "outputs": [
    {
     "name": "stdout",
     "output_type": "stream",
     "text": [
      "Entra num1:2\n",
      "Entra num2:2\n",
      "2\n"
     ]
    }
   ],
   "source": [
    "def num_entre(a,b):\n",
    "    if a<b:\n",
    "        for i in range(a,b+1):\n",
    "            print(i)\n",
    "    elif a==b:\n",
    "        print(a)\n",
    "    else:\n",
    "        for i in range(b,a+1):\n",
    "            print(i)\n",
    "            \n",
    "            \n",
    "a=int(input(\"Entra num1:\"))\n",
    "b=int(input(\"Entra num2:\"))\n",
    "num_entre(a,b)"
   ]
  },
  {
   "cell_type": "markdown",
   "metadata": {},
   "source": [
    "#### (a)"
   ]
  },
  {
   "cell_type": "code",
   "execution_count": 11,
   "metadata": {
    "scrolled": true
   },
   "outputs": [
    {
     "name": "stdout",
     "output_type": "stream",
     "text": [
      "Entra num1:3\n",
      "Entra num2:5\n",
      "4\n"
     ]
    }
   ],
   "source": [
    "def num_entre2(a,b):\n",
    "    if a+1<b:\n",
    "        for i in range(a+1,b):\n",
    "            print(i)\n",
    "    elif a==b or a+1==b or a==b+1:\n",
    "        print(\"ERROR\")\n",
    "    else:\n",
    "        for i in range(b+1,a):\n",
    "            print(i)\n",
    "            \n",
    "            \n",
    "a=int(input(\"Entra num1:\"))\n",
    "b=int(input(\"Entra num2:\"))\n",
    "num_entre2(a,b)"
   ]
  },
  {
   "cell_type": "markdown",
   "metadata": {},
   "source": [
    "### Problema 4"
   ]
  },
  {
   "cell_type": "code",
   "execution_count": 34,
   "metadata": {},
   "outputs": [
    {
     "name": "stdout",
     "output_type": "stream",
     "text": [
      "Entra num1:2\n",
      "Entra num2:6\n",
      "2 + 3 + 4 + 5 + 6 = 20\n"
     ]
    }
   ],
   "source": [
    "def suma_entre(a,b):\n",
    "    suma=0\n",
    "    if a<b:\n",
    "        for i in range(a,b+1):\n",
    "            suma=suma+i\n",
    "        return(suma)\n",
    "    elif a==b:\n",
    "        suma=a\n",
    "        return(suma)\n",
    "    else:\n",
    "        for i in range(b,a+1):\n",
    "            suma=suma+i\n",
    "            return(suma)\n",
    "\n",
    "def suma_entre_mal(a,b):\n",
    "    suma=0\n",
    "    if a<b:\n",
    "        for i in range(a,b+1):\n",
    "            if i!=b:\n",
    "                print(i, end=\" + \")\n",
    "            else: \n",
    "                print(i, end=\" \")\n",
    "            suma=suma+i\n",
    "        return(print(\"=\",suma))\n",
    "    elif a==b:\n",
    "        suma=a\n",
    "        return(print(a,\"=\",suma))\n",
    "    else:\n",
    "        for i in range(b,a+1):\n",
    "            if i!=a:\n",
    "                print(i, end=\" + \")\n",
    "            else: \n",
    "                print(i, end=\" \")\n",
    "            suma=suma+i\n",
    "        return(print(\"=\",suma))\n",
    "        \n",
    "a=int(input(\"Entra num1:\"))\n",
    "b=int(input(\"Entra num2:\"))\n",
    "\n",
    "suma_entre_mal(a,b)        "
   ]
  },
  {
   "cell_type": "markdown",
   "metadata": {},
   "source": [
    "### Problema 5"
   ]
  },
  {
   "cell_type": "code",
   "execution_count": 16,
   "metadata": {},
   "outputs": [
    {
     "name": "stdout",
     "output_type": "stream",
     "text": [
      "[1, 2, 3, 4, 5, 6, 7, 8, 9, 10]\n"
     ]
    }
   ],
   "source": [
    "V=[]\n",
    "for i in range(1,11):\n",
    "    V.append(i)\n",
    "print(V)"
   ]
  },
  {
   "cell_type": "markdown",
   "metadata": {},
   "source": [
    "### Problema 6"
   ]
  },
  {
   "cell_type": "code",
   "execution_count": 5,
   "metadata": {},
   "outputs": [
    {
     "name": "stdout",
     "output_type": "stream",
     "text": [
      "Num (float):3\n",
      "Num (float):3\n",
      "Num (float):3\n",
      "[3.0, 3.0, 3.0]\n",
      "9.0\n",
      "Suma sense funció: 9.0\n"
     ]
    }
   ],
   "source": [
    "def sum_array(V):\n",
    "    suma=0\n",
    "    if len(V)>0:\n",
    "        for i in range(len(V)):\n",
    "            suma=suma+V[i]\n",
    "        return(suma)\n",
    "    else: \n",
    "        print(\"ERROR: Array buit\")\n",
    "\n",
    "V=[]\n",
    "suma=0\n",
    "for i in range(3):\n",
    "    V.append(float(input(\"Num (float):\")))\n",
    "    suma+=V[i]\n",
    "print(V)\n",
    "print(sum_array(V))\n",
    "print(\"Suma sense funció:\",suma)"
   ]
  },
  {
   "cell_type": "markdown",
   "metadata": {},
   "source": [
    "### Problema 7"
   ]
  },
  {
   "cell_type": "code",
   "execution_count": 42,
   "metadata": {},
   "outputs": [
    {
     "name": "stdout",
     "output_type": "stream",
     "text": [
      "Num (float entre 1-100):0\n",
      "valor fora rang\n",
      "Num (float entre 1-100):0\n",
      "valor fora rang\n",
      "Num (float entre 1-100):1\n",
      "Num (float entre 1-100):101\n",
      "valor fora rang\n",
      "Num (float entre 1-100):3\n",
      "[1.0, 3.0]\n",
      "4.0\n"
     ]
    }
   ],
   "source": [
    "V=[]\n",
    "for i in range(2):\n",
    "    while True:\n",
    "        a=float(input(\"Num (float entre 1-100):\"))\n",
    "        if a>=1 and a<=100:\n",
    "            V.append(a)\n",
    "            break\n",
    "        else: \n",
    "            print(\"valor fora rang\")\n",
    "\n",
    "print(V)\n",
    "print(sum_array(V))"
   ]
  },
  {
   "cell_type": "markdown",
   "metadata": {},
   "source": [
    "### Problema 8 i 9"
   ]
  },
  {
   "cell_type": "code",
   "execution_count": 47,
   "metadata": {},
   "outputs": [
    {
     "name": "stdout",
     "output_type": "stream",
     "text": [
      "Num: 1\n",
      "Num: 2\n",
      "Num: 3\n",
      "Num: 4\n",
      "Num: 5\n",
      "Mitjana aritmètica = 3.0\n"
     ]
    }
   ],
   "source": [
    "def mitja(V):\n",
    "    if len(V)<1:\n",
    "        return(\"ERROR: Llista buida\")\n",
    "    else:\n",
    "        return(sum_array(V)/len(V))\n",
    "\n",
    "V=[]\n",
    "for i in range(5):\n",
    "    V.append(float(input(\"Num: \")))\n",
    "print(\"Mitjana aritmètica =\",mitja(V))"
   ]
  },
  {
   "cell_type": "markdown",
   "metadata": {},
   "source": [
    "### Problema 10"
   ]
  },
  {
   "cell_type": "code",
   "execution_count": 57,
   "metadata": {},
   "outputs": [
    {
     "name": "stdout",
     "output_type": "stream",
     "text": [
      "Desviació estandar corregida = 1.5811388300841898\n"
     ]
    }
   ],
   "source": [
    "def desvia_standar(V):\n",
    "    if len(V)<1:\n",
    "        return(\"ERROR: Llista buida\")\n",
    "    else:\n",
    "        suma=0\n",
    "        for i in range(len(V)):\n",
    "            suma+=(V[i]-mitja(V))**2\n",
    "        return((suma/(len(V)-1))**(1/2))\n",
    "    \n",
    "print(\"Desviació estandar corregida =\", desvia_standar(V))"
   ]
  },
  {
   "cell_type": "markdown",
   "metadata": {},
   "source": [
    "### Problema 11"
   ]
  },
  {
   "cell_type": "code",
   "execution_count": 50,
   "metadata": {},
   "outputs": [
    {
     "name": "stdout",
     "output_type": "stream",
     "text": [
      "Mitjana geomètrica = 2.605171084697352\n"
     ]
    }
   ],
   "source": [
    "def mitja_geometrica(V):\n",
    "    if len(V)<1:\n",
    "        return(\"ERROR: Llista buida\")\n",
    "    else: \n",
    "        prod=1\n",
    "        for i in range(len(V)):\n",
    "            prod*=V[i]\n",
    "        return(prod**(1/len(V)))\n",
    "print(\"Mitjana geomètrica =\", mitja_geometrica(V))"
   ]
  },
  {
   "cell_type": "markdown",
   "metadata": {},
   "source": [
    "## Sessió 4\n",
    "### Problema 1"
   ]
  },
  {
   "cell_type": "code",
   "execution_count": 6,
   "metadata": {},
   "outputs": [
    {
     "name": "stdout",
     "output_type": "stream",
     "text": [
      "Hi ha un 3\n"
     ]
    }
   ],
   "source": [
    "m=[0,3,0,0]\n",
    "for i in range(len(m)):\n",
    "    if m[i]==3:\n",
    "        print(\"Hi ha un 3\")\n",
    "        break\n",
    "    elif i==len(m)-1:\n",
    "        print(\"No conté cap 3\")\n",
    "        "
   ]
  },
  {
   "cell_type": "code",
   "execution_count": 6,
   "metadata": {},
   "outputs": [
    {
     "name": "stdout",
     "output_type": "stream",
     "text": [
      "Trobat 3\n"
     ]
    }
   ],
   "source": [
    "m=[0,1,2,3,4]\n",
    "if 3 in m:\n",
    "    print(\"Trobat 3\")\n",
    "else: \n",
    "    print(\"No trobat\")"
   ]
  },
  {
   "cell_type": "markdown",
   "metadata": {},
   "source": [
    "### Problema 2"
   ]
  },
  {
   "cell_type": "code",
   "execution_count": 7,
   "metadata": {},
   "outputs": [
    {
     "name": "stdout",
     "output_type": "stream",
     "text": [
      "El primer nombre 3 es troba al index 3 del array\n"
     ]
    }
   ],
   "source": [
    "m=[0,0,0,3]\n",
    "for i in range(len(m)):\n",
    "    if m[i]==3:\n",
    "        print(\"El primer nombre 3 es troba al index\", i, \"del array\")\n",
    "        break\n",
    "    elif i==len(m)-1:\n",
    "        print(\"No es troba\")\n",
    "        "
   ]
  },
  {
   "cell_type": "code",
   "execution_count": 9,
   "metadata": {
    "scrolled": true
   },
   "outputs": [
    {
     "name": "stdout",
     "output_type": "stream",
     "text": [
      "Index 2\n"
     ]
    }
   ],
   "source": [
    "m=[0,0,3,0]\n",
    "\n",
    "aux=False # per mostrar tots els index on apareix el 3\n",
    "\n",
    "for i in range(len(m)):\n",
    "    if m[i]==3:\n",
    "        print(\"Index\", i)\n",
    "        aux=True\n",
    "    elif i==len(m)-1 and aux==False:\n",
    "        print(\"No es troba\")\n",
    "    "
   ]
  },
  {
   "cell_type": "code",
   "execution_count": 47,
   "metadata": {},
   "outputs": [
    {
     "name": "stdout",
     "output_type": "stream",
     "text": [
      "[0, 2]\n"
     ]
    }
   ],
   "source": [
    "def indexs(llista,num):\n",
    "    v=[]\n",
    "    for i in range(len(llista)):\n",
    "        if llista[i]==num:\n",
    "            v.append(i)\n",
    "    return v\n",
    "\n",
    "v=[1,2,1]\n",
    "print(indexs(v,1))"
   ]
  },
  {
   "cell_type": "markdown",
   "metadata": {},
   "source": [
    "### Problema 3"
   ]
  },
  {
   "cell_type": "code",
   "execution_count": 17,
   "metadata": {
    "scrolled": false
   },
   "outputs": [
    {
     "name": "stdout",
     "output_type": "stream",
     "text": [
      "Dimensió de l'array: 5\n",
      "Introdueix els valors de l'array\n",
      "Num: 1\n",
      "Num: 2\n",
      "Num: 3\n",
      "Num: 4\n",
      "Num: 5\n",
      "Entra el valor que vols buscar: 5\n",
      "Index del 5 en l'array:  4\n"
     ]
    }
   ],
   "source": [
    "def troba(array,valor):\n",
    "    for i in range(len(array)):\n",
    "        if array[i]==valor:\n",
    "            return(i)\n",
    "        elif i==len(array)-1:\n",
    "            print(\"El valor\",valor,\"no es troba en l'array\")\n",
    "\n",
    "dim=int(input(\"Dimensió de l'array: \"))\n",
    "print(\"Introdueix els valors de l'array\")\n",
    "V=[]\n",
    "for i in range(dim):\n",
    "    V.append(int(input(\"Num: \")))\n",
    "valor=int(input(\"Entra el valor que vols buscar: \"))\n",
    "\n",
    "print(\"Index del\", valor, \"en l'array: \", troba(V,valor))"
   ]
  },
  {
   "cell_type": "code",
   "execution_count": null,
   "metadata": {},
   "outputs": [],
   "source": [
    "def buscar(v,n):\n",
    "    llista=[None]*len(v)\n",
    "    index=0\n",
    "    aux=False\n",
    "    for i in range(len(v)):\n",
    "        if v[i]==n:\n",
    "            llista[index]=i\n",
    "            index=index+1\n",
    "            aux=True\n",
    "        elif i==len(v)-1 and aux==False:\n",
    "            return \"NO\"\n",
    "    return llista"
   ]
  },
  {
   "cell_type": "markdown",
   "metadata": {},
   "source": [
    "### Problema 4"
   ]
  },
  {
   "cell_type": "code",
   "execution_count": 20,
   "metadata": {
    "scrolled": true
   },
   "outputs": [
    {
     "name": "stdout",
     "output_type": "stream",
     "text": [
      "3\n"
     ]
    }
   ],
   "source": [
    "def aprovats(array):\n",
    "    cont=0\n",
    "    for i in range(len(array)):\n",
    "        if array[i]>=5: \n",
    "            cont+=1\n",
    "    return cont\n",
    "\n",
    "#Programa principal\n",
    "v=[1,2,3,6,7,8]\n",
    "print(\"Nombre d'aprovats:\", aprovats(v))"
   ]
  },
  {
   "cell_type": "markdown",
   "metadata": {},
   "source": [
    "### Problema 5"
   ]
  },
  {
   "cell_type": "code",
   "execution_count": 21,
   "metadata": {},
   "outputs": [
    {
     "name": "stdout",
     "output_type": "stream",
     "text": [
      "2\n"
     ]
    }
   ],
   "source": [
    "def notables(array):\n",
    "    cont=0\n",
    "    for i in range(len(array)):\n",
    "        if array[i]>=7 and array[i]<9:\n",
    "            cont+=1\n",
    "    return cont\n",
    "\n",
    "v=[1,2,3,6,7,8]\n",
    "print(\"Nombre de notables:\", notables(v))"
   ]
  },
  {
   "cell_type": "markdown",
   "metadata": {},
   "source": [
    "#### (a)"
   ]
  },
  {
   "cell_type": "code",
   "execution_count": 10,
   "metadata": {},
   "outputs": [
    {
     "name": "stdout",
     "output_type": "stream",
     "text": [
      "[Aprovats, Notables]= [3, 2]\n"
     ]
    }
   ],
   "source": [
    "def aprov_not(array):\n",
    "    cont_aprov=0\n",
    "    cont_not=0\n",
    "    for i in range(len(array)):\n",
    "        if array[i]>=5:\n",
    "            cont_aprov+=1\n",
    "            if array[i]>=7 and array[i]<9:\n",
    "                cont_not+=1\n",
    "    \n",
    "    return [cont_aprov,cont_not]\n",
    "\n",
    "v=[1,2,3,6,7,8]\n",
    "print(\"[Aprovats, Notables]=\", aprov_not(v))"
   ]
  },
  {
   "cell_type": "markdown",
   "metadata": {},
   "source": [
    "### Problema 6"
   ]
  },
  {
   "cell_type": "code",
   "execution_count": 25,
   "metadata": {},
   "outputs": [
    {
     "data": {
      "text/plain": [
       "[1, 2, 3, 5, 0]"
      ]
     },
     "execution_count": 25,
     "metadata": {},
     "output_type": "execute_result"
    }
   ],
   "source": [
    "def invertir(v):\n",
    "    if len(v)%2==0:\n",
    "        for i in range(len(v)/2):\n",
    "            v[i],v[len(v)-i-1]=v[len(v)-i-1],v[i]\n",
    "    else:\n",
    "        for i in range(int(len(v)/2-0.5)): \n",
    "            v[i],v[len(v)-i-1]=v[len(v)-i-1],v[i]\n",
    "    return v\n",
    "\n",
    "v=[0,5,3,2,1]\n",
    "print(\"original\",v)\n",
    "print(\"reverse\",invertir(v))"
   ]
  },
  {
   "cell_type": "code",
   "execution_count": 14,
   "metadata": {},
   "outputs": [
    {
     "name": "stdout",
     "output_type": "stream",
     "text": [
      "[5, 4, 3, 2, 1]\n"
     ]
    }
   ],
   "source": [
    "# Alternativa\n",
    "v=[1,2,3,4,5]\n",
    "\n",
    "for i in range(len(v)//2):\n",
    "    v[i],v[-i-1]=v[-i-1],v[i]\n",
    "\n",
    "print(v)"
   ]
  },
  {
   "cell_type": "markdown",
   "metadata": {},
   "source": [
    "### Problema 7"
   ]
  },
  {
   "cell_type": "code",
   "execution_count": 28,
   "metadata": {},
   "outputs": [
    {
     "name": "stdout",
     "output_type": "stream",
     "text": [
      "[1, 2, 2, 3, 3, 4, 6, 7, 8, 56, 123]\n"
     ]
    }
   ],
   "source": [
    "v=[1,2,3,56,3,123,6,8,4,2,7]\n",
    "v.sort()\n",
    "print(v)"
   ]
  },
  {
   "cell_type": "markdown",
   "metadata": {},
   "source": [
    "### Problema 8"
   ]
  },
  {
   "cell_type": "code",
   "execution_count": 37,
   "metadata": {},
   "outputs": [
    {
     "data": {
      "text/plain": [
       "[1, 2, 3, 5, 6, 7, 8, 9, 10]"
      ]
     },
     "execution_count": 37,
     "metadata": {},
     "output_type": "execute_result"
    }
   ],
   "source": [
    "def inserta(llista,nombre):\n",
    "    for i in range(len(llista)):\n",
    "        if llista[i]>=nombre:\n",
    "            llista.insert(i,nombre)\n",
    "            break\n",
    "        elif i==len(llista)-1:\n",
    "            llista.append(nombre)\n",
    "    return llista\n",
    "\n",
    "v=[1,2,3,5,6,7,8,9]\n",
    "inserta(v,10)"
   ]
  },
  {
   "cell_type": "markdown",
   "metadata": {},
   "source": [
    "### Problema 9"
   ]
  },
  {
   "cell_type": "code",
   "execution_count": 52,
   "metadata": {},
   "outputs": [
    {
     "data": {
      "text/plain": [
       "[1, 2, 3, 4, 5, 6, 8]"
      ]
     },
     "execution_count": 52,
     "metadata": {},
     "output_type": "execute_result"
    }
   ],
   "source": [
    "# Eliminar el primer valor \n",
    "\n",
    "def troba(array,valor):\n",
    "    for i in range(len(array)):\n",
    "        if array[i]==valor:\n",
    "            return(i)\n",
    "\n",
    "def elimina(llista, num):\n",
    "    i=troba(llista,num)\n",
    "    if i == len(llista)-1:\n",
    "        llista.pop()\n",
    "        return llista\n",
    "    else:\n",
    "        llista1=llista[:i+1]\n",
    "        llista2=llista[i+1:]\n",
    "        llista1.pop()\n",
    "    return llista1+llista2\n",
    "\n",
    "v=[1,2,3,4,5,6,8,9]\n",
    "elimina(v,9)"
   ]
  },
  {
   "cell_type": "code",
   "execution_count": 51,
   "metadata": {},
   "outputs": [
    {
     "name": "stdout",
     "output_type": "stream",
     "text": [
      "[1, 2, 4, 6, 7, 8]\n"
     ]
    }
   ],
   "source": [
    "def indexs(llista,num):\n",
    "    v=[]\n",
    "    for i in range(len(llista)):\n",
    "        if llista[i]==num:\n",
    "            v.append(i)\n",
    "    return v\n",
    "\n",
    "\n",
    "\n",
    "def elimina(llista, num):\n",
    "    i=troba(llista,num)\n",
    "    if i == len(llista)-1:\n",
    "        llista.pop()\n",
    "        return llista\n",
    "    else:\n",
    "        llista1=llista[:i+1]\n",
    "        llista2=llista[i+1:]\n",
    "        llista1.pop()\n",
    "    return llista1+llista2\n",
    "\n",
    "\n",
    "\n",
    "def elimina_varis(llista,num):\n",
    "    v=indexs(llista,num)\n",
    "    for i in range(len(v)):\n",
    "        llista=elimina(llista,num)\n",
    "    return llista\n",
    "\n",
    "v=[1,2,3,4,3,6,7,8,3]\n",
    "print(elimina_varis(v,3))"
   ]
  },
  {
   "cell_type": "code",
   "execution_count": 53,
   "metadata": {},
   "outputs": [
    {
     "name": "stdout",
     "output_type": "stream",
     "text": [
      "[1, 2, 4, 6, 7, 8]\n"
     ]
    }
   ],
   "source": [
    "# Alternativa\n",
    "\n",
    "def elim(llista,num):\n",
    "    v=[]\n",
    "    mida=len(llista)\n",
    "    for i in range(mida):\n",
    "        if llista[i]!=num:\n",
    "            v.append(llista[i])\n",
    "    return v\n",
    "\n",
    "v=[1,2,3,4,3,6,7,8,3]\n",
    "print(elim(v,3))"
   ]
  },
  {
   "cell_type": "markdown",
   "metadata": {},
   "source": [
    "### Exercicis extres\n",
    "##### Problema 1"
   ]
  },
  {
   "cell_type": "code",
   "execution_count": 18,
   "metadata": {},
   "outputs": [
    {
     "name": "stdout",
     "output_type": "stream",
     "text": [
      "Mètode 1: [4.333333333333333, 4.932882862316248]\n",
      "Mètode 2: [4.333333333333333, 4.932882862316247]\n"
     ]
    }
   ],
   "source": [
    "#METODE 1 (1 bucle for)\n",
    "def mitj_sd(v):\n",
    "    suma_mitj=0\n",
    "    suma_sd=0\n",
    "    n=len(v)\n",
    "    for i in range(n):\n",
    "        suma_mitj+=v[i]\n",
    "        suma_sd+=v[i]**2\n",
    "    mitja=suma_mitj/n\n",
    "    var_n=suma_sd/n-mitja**2\n",
    "    sd=(n/(n-1)*var_n)**(1/2)\n",
    "    return [mitja,sd]\n",
    "\n",
    "def mitj_sd2(v):\n",
    "    suma_mitj=0\n",
    "    n=len(v)\n",
    "    for i in range(n):\n",
    "        suma_mitj+=v[i]\n",
    "    mitja=suma_mitj/n\n",
    "    suma_sd=0\n",
    "    for i in range(n):\n",
    "        suma_sd+=(v[i]-mitja)**2\n",
    "    sd=(suma_sd/(n-1))**(1/2)\n",
    "    return [mitja,sd]\n",
    "\n",
    "v=[1,2,10]\n",
    "print(\"Mètode 1:\",mitj_sd(v))\n",
    "print(\"Mètode 2:\", mitj_sd2(v))\n",
    "        "
   ]
  },
  {
   "cell_type": "markdown",
   "metadata": {},
   "source": [
    "##### Problema 2"
   ]
  },
  {
   "cell_type": "code",
   "execution_count": 20,
   "metadata": {},
   "outputs": [
    {
     "name": "stdout",
     "output_type": "stream",
     "text": [
      "[1.0, 1.4142135623730951, 1.0]\n"
     ]
    }
   ],
   "source": [
    "def dist_v(vx,vy):\n",
    "    d=[]\n",
    "    for i in range(len(vx)-1):\n",
    "        x=vx[i]-vx[i+1]\n",
    "        y=vy[i]-vy[i+1]\n",
    "        d.append((x**2+y**2)**(1/2))\n",
    "    return d\n",
    "\n",
    "x=[1,2,3,4]\n",
    "y=[1,1,2,2]\n",
    "print(dist_v(x,y))"
   ]
  },
  {
   "cell_type": "markdown",
   "metadata": {},
   "source": [
    "## Sessió 5\n",
    "### Problema 1"
   ]
  },
  {
   "cell_type": "code",
   "execution_count": 1,
   "metadata": {},
   "outputs": [
    {
     "name": "stdout",
     "output_type": "stream",
     "text": [
      "9\n"
     ]
    }
   ],
   "source": [
    "def sum_senars(L):\n",
    "    suma=0\n",
    "    for i in range(len(L)):\n",
    "        if L[i]%2!=0:\n",
    "            suma+=L[i]\n",
    "    return(suma)\n",
    "\n",
    "L=[1,2,3,4,5]\n",
    "print(sum_senars(L))"
   ]
  },
  {
   "cell_type": "markdown",
   "metadata": {},
   "source": [
    "### Problema 2"
   ]
  },
  {
   "cell_type": "code",
   "execution_count": 2,
   "metadata": {},
   "outputs": [
    {
     "name": "stdout",
     "output_type": "stream",
     "text": [
      "3.0\n"
     ]
    }
   ],
   "source": [
    "def mitjana(L):\n",
    "    suma=0\n",
    "    for i in range(len(L)):\n",
    "        suma+=L[i]\n",
    "    return(suma/len(L))\n",
    "\n",
    "L=[1,2,3,4,5]\n",
    "print(mitjana(L))"
   ]
  },
  {
   "cell_type": "markdown",
   "metadata": {},
   "source": [
    "### Problema 3"
   ]
  },
  {
   "cell_type": "code",
   "execution_count": 23,
   "metadata": {},
   "outputs": [
    {
     "name": "stdout",
     "output_type": "stream",
     "text": [
      "Vegada que apareix el 10: 0\n"
     ]
    }
   ],
   "source": [
    "def trobar_num(llista,num):\n",
    "    veg=0\n",
    "    for i in range(len(llista)):\n",
    "        if llista[i]==num:\n",
    "            veg+=1\n",
    "    return(veg)\n",
    "\n",
    "L=[1,2,3,4,5]\n",
    "print('Vegada que apareix el 10:',trobar_num(L,10))"
   ]
  },
  {
   "cell_type": "markdown",
   "metadata": {},
   "source": [
    "### Problema 4\n",
    "#### (a)"
   ]
  },
  {
   "cell_type": "code",
   "execution_count": 6,
   "metadata": {},
   "outputs": [
    {
     "name": "stdout",
     "output_type": "stream",
     "text": [
      "5\n"
     ]
    }
   ],
   "source": [
    "def maxim(L):\n",
    "    gar=L[0]\n",
    "    for i in range(1,len(L)):\n",
    "        if gar<L[i]:\n",
    "            gar=L[i]\n",
    "    return(gar)\n",
    "\n",
    "print(maxim(L))"
   ]
  },
  {
   "cell_type": "markdown",
   "metadata": {},
   "source": [
    "#### (b)"
   ]
  },
  {
   "cell_type": "code",
   "execution_count": 8,
   "metadata": {},
   "outputs": [
    {
     "name": "stdout",
     "output_type": "stream",
     "text": [
      "1\n"
     ]
    }
   ],
   "source": [
    "def minim(L):\n",
    "    gar=L[0]\n",
    "    for i in range(1,len(L)):\n",
    "        if gar>L[i]:\n",
    "            gar=L[i]\n",
    "    return(gar)\n",
    "\n",
    "print(minim(L))"
   ]
  },
  {
   "cell_type": "markdown",
   "metadata": {},
   "source": [
    "#### (c)"
   ]
  },
  {
   "cell_type": "code",
   "execution_count": 11,
   "metadata": {},
   "outputs": [
    {
     "name": "stdout",
     "output_type": "stream",
     "text": [
      "(Mínim, Màxim) = (1, 5)\n"
     ]
    }
   ],
   "source": [
    "def maximin(L):\n",
    "    maxim= L[0]\n",
    "    minim= L[0]\n",
    "    for i in range(len(L)):\n",
    "        if maxim<L[i]:\n",
    "            maxim=L[i]\n",
    "        if minim>L[i]:\n",
    "            minim=L[i]\n",
    "    tupla=(minim,maxim)\n",
    "    return(tupla)\n",
    "\n",
    "print(\"(Mínim, Màxim) =\", maximin(L))\n",
    "        "
   ]
  },
  {
   "cell_type": "markdown",
   "metadata": {},
   "source": [
    "### Problema 5"
   ]
  },
  {
   "cell_type": "code",
   "execution_count": 21,
   "metadata": {},
   "outputs": [
    {
     "name": "stdout",
     "output_type": "stream",
     "text": [
      "Menu:\n",
      "1-Suma de senars\n",
      "                    \n",
      "2-Mitjana aritmètica\n",
      "                    \n",
      "3-Vegades que apareix un num\n",
      "                    \n",
      "4-Màxim\n",
      "                    \n",
      "5-Mínim\n",
      "                    \n",
      "6-Tupla (màx,min)\n",
      "                    \n",
      "7-Sortir\n",
      "2\n"
     ]
    },
    {
     "ename": "NameError",
     "evalue": "name 'mitjana' is not defined",
     "output_type": "error",
     "traceback": [
      "\u001b[0;31m---------------------------------------------------------------------------\u001b[0m",
      "\u001b[0;31mNameError\u001b[0m                                 Traceback (most recent call last)",
      "\u001b[0;32m<ipython-input-21-1bc11311fd78>\u001b[0m in \u001b[0;36m<module>\u001b[0;34m\u001b[0m\n\u001b[1;32m     11\u001b[0m         \u001b[0mprint\u001b[0m\u001b[0;34m(\u001b[0m\u001b[0;34m\"\\tSuma dels senars:\"\u001b[0m\u001b[0;34m,\u001b[0m\u001b[0msum_senars\u001b[0m\u001b[0;34m(\u001b[0m\u001b[0mL\u001b[0m\u001b[0;34m)\u001b[0m\u001b[0;34m)\u001b[0m\u001b[0;34m\u001b[0m\u001b[0;34m\u001b[0m\u001b[0m\n\u001b[1;32m     12\u001b[0m     \u001b[0;32melif\u001b[0m \u001b[0mx\u001b[0m\u001b[0;34m==\u001b[0m\u001b[0;36m2\u001b[0m\u001b[0;34m:\u001b[0m\u001b[0;34m\u001b[0m\u001b[0;34m\u001b[0m\u001b[0m\n\u001b[0;32m---> 13\u001b[0;31m         \u001b[0mprint\u001b[0m\u001b[0;34m(\u001b[0m\u001b[0;34m\"\\tMijana aritmètica:\"\u001b[0m\u001b[0;34m,\u001b[0m\u001b[0mmitjana\u001b[0m\u001b[0;34m(\u001b[0m\u001b[0mL\u001b[0m\u001b[0;34m)\u001b[0m\u001b[0;34m)\u001b[0m\u001b[0;34m\u001b[0m\u001b[0;34m\u001b[0m\u001b[0m\n\u001b[0m\u001b[1;32m     14\u001b[0m     \u001b[0;32melif\u001b[0m \u001b[0mx\u001b[0m\u001b[0;34m==\u001b[0m\u001b[0;36m3\u001b[0m\u001b[0;34m:\u001b[0m\u001b[0;34m\u001b[0m\u001b[0;34m\u001b[0m\u001b[0m\n\u001b[1;32m     15\u001b[0m         \u001b[0mprint\u001b[0m\u001b[0;34m(\u001b[0m\u001b[0;34m\"\\tVegades que apareix el nombre 3:\"\u001b[0m\u001b[0;34m,\u001b[0m\u001b[0mtrobar_num\u001b[0m\u001b[0;34m(\u001b[0m\u001b[0mL\u001b[0m\u001b[0;34m,\u001b[0m\u001b[0;36m3\u001b[0m\u001b[0;34m)\u001b[0m\u001b[0;34m)\u001b[0m\u001b[0;34m\u001b[0m\u001b[0;34m\u001b[0m\u001b[0m\n",
      "\u001b[0;31mNameError\u001b[0m: name 'mitjana' is not defined"
     ]
    }
   ],
   "source": [
    "L=[1,2,3,4,5]\n",
    "while True:\n",
    "    x=int(input(\"\"\"Menu:\\n1-Suma de senars\n",
    "                    \\n2-Mitjana aritmètica\n",
    "                    \\n3-Vegades que apareix un num\n",
    "                    \\n4-Màxim\n",
    "                    \\n5-Mínim\n",
    "                    \\n6-Tupla (màx,min)\n",
    "                    \\n7-Sortir\\n\"\"\"))\n",
    "    if x==1:\n",
    "        print(\"\\tSuma dels senars:\",sum_senars(L))\n",
    "    elif x==2:\n",
    "        print(\"\\tMijana aritmètica:\",mitjana(L))\n",
    "    elif x==3:\n",
    "        print(\"\\tVegades que apareix el nombre 3:\",trobar_num(L,3))\n",
    "    elif x==4:\n",
    "        print(\"\\tMàxim:\",maxim(L))\n",
    "    elif x==5:\n",
    "        print(\"\\tMínim:\",minim(L))\n",
    "    elif x==6:\n",
    "        print(\"\\t(Mínim, Màxim) =\", maximin(L))\n",
    "    elif x==7:\n",
    "        break\n",
    "    else:\n",
    "        print(\"\\tOpció incorrecta. Torna a escollir una opció.\")\n"
   ]
  },
  {
   "cell_type": "markdown",
   "metadata": {},
   "source": [
    "### Problema 6"
   ]
  },
  {
   "cell_type": "code",
   "execution_count": 22,
   "metadata": {},
   "outputs": [],
   "source": [
    "dict={\n",
    "    18:25,\n",
    "    19:24,\n",
    "    20:11\n",
    "}"
   ]
  },
  {
   "cell_type": "markdown",
   "metadata": {},
   "source": [
    "#### (a)"
   ]
  },
  {
   "cell_type": "code",
   "execution_count": 29,
   "metadata": {},
   "outputs": [
    {
     "name": "stdout",
     "output_type": "stream",
     "text": [
      "60\n"
     ]
    }
   ],
   "source": [
    "total=0\n",
    "for n in dict:\n",
    "    total+=dict[n]\n",
    "print(total)"
   ]
  },
  {
   "cell_type": "markdown",
   "metadata": {},
   "source": [
    "#### (b)"
   ]
  },
  {
   "cell_type": "code",
   "execution_count": 34,
   "metadata": {},
   "outputs": [
    {
     "name": "stdout",
     "output_type": "stream",
     "text": [
      "Edat més freq: 18 anys\n",
      "Edat menys freq: 20 anys\n"
     ]
    }
   ],
   "source": [
    "cont=True\n",
    "for n in dict:\n",
    "    if cont:\n",
    "        mes=n\n",
    "        menys=n\n",
    "        cont=False\n",
    "    else:\n",
    "        if dict[mes]<dict[n]:\n",
    "            mes=n\n",
    "        if dict[menys]>dict[n]:\n",
    "            menys=n\n",
    "        \n",
    "print(\"Edat més freq:\", mes,\"anys\\nEdat menys freq:\",menys,\"anys\")"
   ]
  },
  {
   "cell_type": "markdown",
   "metadata": {},
   "source": [
    "### Problema 7"
   ]
  },
  {
   "cell_type": "code",
   "execution_count": 39,
   "metadata": {},
   "outputs": [
    {
     "name": "stdout",
     "output_type": "stream",
     "text": [
      "El número que apareix més vegades és 1 , aparegent 2 vegades\n"
     ]
    }
   ],
   "source": [
    "L=[1,1,2,3,4,5,6,7,8,10]\n",
    "alfa=1\n",
    "betta=3\n",
    "if trobar_num(L,alfa)>trobar_num(L,betta):\n",
    "    print(\"El número que apareix més vegades és\",alfa,\", aparegent\",trobar_num(L,alfa),\"vegades\")\n",
    "elif trobar_num(L,alfa)==trobar_num(L,betta):\n",
    "    print(\"El dues números apareixen el mateix nombre de vegades:\",trobar_num(L,alfa),\"vegades\")\n",
    "else:\n",
    "    print(\"El número que apareix més vegades és\",betta,\"és aparegent\",trobar_num(L,betta),\"vegades\")"
   ]
  },
  {
   "cell_type": "markdown",
   "metadata": {},
   "source": [
    "#### (a)"
   ]
  },
  {
   "cell_type": "code",
   "execution_count": 44,
   "metadata": {},
   "outputs": [
    {
     "name": "stdout",
     "output_type": "stream",
     "text": [
      "Num:1\n",
      "Num:4\n",
      "El nombre que més vegades apareix és/són: 1\n"
     ]
    }
   ],
   "source": [
    "def mesvegades(L,alfa,betta):\n",
    "    if trobar_num(L,alfa)>trobar_num(L,betta):\n",
    "        return(alfa)\n",
    "    elif trobar_num(L,alfa)==trobar_num(L,betta):\n",
    "        return((alfa,betta))\n",
    "    else:\n",
    "        return(betta)\n",
    "\n",
    "\n",
    "L=[1,1,2,3,4,5,6,7,8,10]\n",
    "V=[]\n",
    "for i in range(2):   \n",
    "    V.append(int(input(\"Num:\")))\n",
    "print(\"El nombre que més vegades apareix és/són:\",mesvegades(L,V[0],V[1]))\n"
   ]
  },
  {
   "cell_type": "markdown",
   "metadata": {},
   "source": [
    "#### (b)"
   ]
  },
  {
   "cell_type": "code",
   "execution_count": 24,
   "metadata": {},
   "outputs": [
    {
     "name": "stdout",
     "output_type": "stream",
     "text": [
      "Num:1\n",
      "Num:10\n",
      "(Nombre més freq, nº de vegades): (1, 2)\n"
     ]
    }
   ],
   "source": [
    "def mesvegades(L,alfa,betta):\n",
    "    if trobar_num(L,alfa)>trobar_num(L,betta):\n",
    "        return (alfa,trobar_num(L,alfa))\n",
    "    elif trobar_num(L,alfa)==trobar_num(L,betta):\n",
    "        return (alfa,trobar_num(L,alfa))\n",
    "    else:\n",
    "        return (betta,trobar_num(L,betta))\n",
    "\n",
    "\n",
    "L=[1,1,2,3,4,5,6,7,8,10]\n",
    "V=[]\n",
    "for i in range(2):   \n",
    "    V.append(int(input(\"Num:\")))\n",
    "print(\"(Nombre més freq, nº de vegades):\",mesvegades(L,V[0],V[1]))"
   ]
  },
  {
   "cell_type": "markdown",
   "metadata": {},
   "source": [
    "#### (c)"
   ]
  },
  {
   "cell_type": "code",
   "execution_count": 25,
   "metadata": {
    "scrolled": false
   },
   "outputs": [
    {
     "name": "stdout",
     "output_type": "stream",
     "text": [
      "{1: 2, 2: 1}\n"
     ]
    }
   ],
   "source": [
    "def totesfreq(v):\n",
    "    dicc={}\n",
    "    for i,x in enumerate(v):\n",
    "        if x in dicc:\n",
    "            pass\n",
    "        else:\n",
    "            dicc[x]=trobar_num(v,x)\n",
    "    return dicc\n",
    "\n",
    "#Programa principal\n",
    "v=[1,1,2]\n",
    "print(totesfreq(v))"
   ]
  },
  {
   "cell_type": "code",
   "execution_count": 26,
   "metadata": {
    "scrolled": true
   },
   "outputs": [
    {
     "name": "stdout",
     "output_type": "stream",
     "text": [
      "4 1 10 \n",
      "\n",
      "8 -4 11 \n",
      "\n",
      "0 11 24 \n",
      "\n"
     ]
    }
   ],
   "source": [
    "m=[[4,1,10],[8,-4,11],[0,11,24]]\n",
    "for i in range(len(m)):\n",
    "    for j in range(len(m[i])):\n",
    "        print(m[i][j], end=\" \")\n",
    "    print(\"\\n\")"
   ]
  },
  {
   "cell_type": "code",
   "execution_count": 27,
   "metadata": {},
   "outputs": [
    {
     "name": "stdout",
     "output_type": "stream",
     "text": [
      "Suma de la primera columna: 12\n"
     ]
    }
   ],
   "source": [
    "m=[[4,1,10],[8,-4,11],[0,11,24]]\n",
    "suma=0\n",
    "for i in range(len(m)):\n",
    "    suma+=m[i][0]\n",
    "\n",
    "print(\"Suma de la primera columna:\",suma)"
   ]
  },
  {
   "cell_type": "code",
   "execution_count": 31,
   "metadata": {},
   "outputs": [
    {
     "name": "stdout",
     "output_type": "stream",
     "text": [
      "Suma de la diagonal principal: 24\n"
     ]
    }
   ],
   "source": [
    "m=[[4,1,10],[8,-4,11],[0,11,24]]\n",
    "suma=0\n",
    "for i in range(len(m)):\n",
    "    for j in range(len(m[i])):\n",
    "        if i==j:\n",
    "            suma+=m[i][j]\n",
    "\n",
    "print(\"Suma de la diagonal principal:\",suma)"
   ]
  },
  {
   "cell_type": "code",
   "execution_count": 32,
   "metadata": {},
   "outputs": [
    {
     "name": "stdout",
     "output_type": "stream",
     "text": [
      "6\n"
     ]
    }
   ],
   "source": [
    "def factorial(n):\n",
    "    if n<0:\n",
    "        return print(\"\"\"ERROR: No existeix \n",
    "        el factorial d'un negatiu\"\"\")\n",
    "    elif n==0:\n",
    "        return 1 # per conveni\n",
    "    else:\n",
    "        prod=1\n",
    "        while n>=1:\n",
    "            prod*=n\n",
    "            n-=1\n",
    "        return prod\n",
    "    \n",
    "print(factorial(3))"
   ]
  },
  {
   "cell_type": "markdown",
   "metadata": {},
   "source": [
    "## Sessió 6\n",
    "### Problema 1"
   ]
  },
  {
   "cell_type": "code",
   "execution_count": 35,
   "metadata": {},
   "outputs": [
    {
     "name": "stdout",
     "output_type": "stream",
     "text": [
      "{1: 3, 2: 2, 3: 1}\n"
     ]
    }
   ],
   "source": [
    "def llistadic(v):\n",
    "    dic={}\n",
    "#    dic={\n",
    "#        v[0]:1\n",
    "#    }\n",
    "    for i in range(0,len(v)):\n",
    "            if v[i] in dic:\n",
    "                dic[v[i]]+=1\n",
    "            else:\n",
    "                dic[v[i]]=1\n",
    "    return(dic)\n",
    "\n",
    "v=[1,1,1,2,2,3]\n",
    "print(llistadic(v))"
   ]
  },
  {
   "cell_type": "markdown",
   "metadata": {},
   "source": [
    "### Problema 2"
   ]
  },
  {
   "cell_type": "code",
   "execution_count": 64,
   "metadata": {},
   "outputs": [
    {
     "name": "stdout",
     "output_type": "stream",
     "text": [
      "Freqüència suspesos: 0.5 ( 50.0 %)\n",
      "Freqüència no suspesos: 0.5 ( 50.0 %)\n"
     ]
    }
   ],
   "source": [
    "nota=[1,2,3,5,6,7,8,3,2,9]\n",
    "suspes=0\n",
    "nosuspes=0\n",
    "\n",
    "for i in range(len(nota)):\n",
    "    if nota[i]<5:\n",
    "        suspes+=1\n",
    "    else:\n",
    "        nosuspes+=1\n",
    "\n",
    "print(\"Freqüència suspesos:\",round(suspes/len(notes),2), \"(\",round(suspes/len(nota)*100,2),\"%)\" )\n",
    "print(\"Freqüència no suspesos:\", round(nosuspes/len(notes),2),\"(\",round(nosuspes/len(nota)*100,2),\"%)\")\n",
    "\n"
   ]
  },
  {
   "cell_type": "markdown",
   "metadata": {},
   "source": [
    "### Problema 3"
   ]
  },
  {
   "cell_type": "code",
   "execution_count": 70,
   "metadata": {},
   "outputs": [
    {
     "name": "stdout",
     "output_type": "stream",
     "text": [
      "Limits:0\n",
      "Limits:6\n",
      "Limits:10.1\n",
      "Freqüència suspesos: 0.6 ( 60.0 %)\n",
      "Freqüència no suspesos: 0.4 ( 40.0 %)\n"
     ]
    }
   ],
   "source": [
    "#Primer entrar una llista amb els limits\n",
    "v=[]\n",
    "for i in range(3):\n",
    "    v.append(float(input(\"Limits:\")))\n",
    "\n",
    "nota=[1,2,3,5,6,7,8,3,2,9]\n",
    "suspes=0\n",
    "nosuspes=0\n",
    "\n",
    "for i in range(len(nota)):\n",
    "    if nota[i]>=v[0] and nota[i]<v[1]:\n",
    "        suspes+=1\n",
    "    else:\n",
    "        nosuspes+=1\n",
    "\n",
    "print(\"Freqüència suspesos:\",round(suspes/len(notes),2), \"(\",round(suspes/len(nota)*100,2),\"%)\" )\n",
    "print(\"Freqüència no suspesos:\", round(nosuspes/len(notes),2),\"(\",round(nosuspes/len(nota)*100,2),\"%)\")\n",
    "\n"
   ]
  },
  {
   "cell_type": "code",
   "execution_count": null,
   "metadata": {},
   "outputs": [],
   "source": [
    "def frequencies(nota):\n",
    "    suspes=0\n",
    "    nosuspes=0\n",
    "\n",
    "    for i in range(len(nota)):\n",
    "        if nota[i]<5:\n",
    "            suspes+=1\n",
    "        else:\n",
    "            nosuspes+=1\n",
    "    return([suspes,nosuspes])\n",
    "\n"
   ]
  },
  {
   "cell_type": "code",
   "execution_count": 71,
   "metadata": {},
   "outputs": [
    {
     "name": "stdout",
     "output_type": "stream",
     "text": [
      "{'Suspesos': [5, 0.5], 'Aprovats': [2, 0.2], 'Notables': [2, 0.2], 'Excel·lents': [1, 0.1]}\n"
     ]
    }
   ],
   "source": [
    "def dicnotes(v):\n",
    "    dic={\n",
    "        'Suspesos':[0,0],\n",
    "        'Aprovats':[0,0],\n",
    "        'Notables':[0,0],\n",
    "        'Excel·lents':[0,0]\n",
    "    }\n",
    "    for i in range(len(v)):\n",
    "        if v[i]<5:\n",
    "            dic['Suspesos'][0]+=1\n",
    "            dic['Suspesos'][1]+=1/len(v)\n",
    "        elif v[i]<7:\n",
    "            dic['Aprovats'][0]+=1\n",
    "            dic['Aprovats'][1]+=1/len(v)\n",
    "        elif v[i]<9:\n",
    "            dic['Notables'][0]+=1\n",
    "            dic['Notables'][1]+=1/len(v)\n",
    "        else:\n",
    "            dic['Excel·lents'][0]+=1\n",
    "            dic['Excel·lents'][1]+=1/len(v)\n",
    "    return dic\n",
    "\n",
    "print(dicnotes(notes))"
   ]
  },
  {
   "cell_type": "markdown",
   "metadata": {},
   "source": [
    "### Problema 4"
   ]
  },
  {
   "cell_type": "code",
   "execution_count": 83,
   "metadata": {},
   "outputs": [
    {
     "name": "stdout",
     "output_type": "stream",
     "text": [
      "Nombre de vegades que apareix 11 : 1\n"
     ]
    }
   ],
   "source": [
    "def dimen(matriu):\n",
    "    files=len(matriu)\n",
    "    columnes=len(matriu[0])\n",
    "    return([files,columnes])\n",
    "\n",
    "matriu=[[1,2],[11,1]]\n",
    "cont=0\n",
    "num=11\n",
    "\n",
    "for i in range(dimen(matriu)[0]):\n",
    "    for j in range(dimen(matriu)[1]):\n",
    "        if matriu[i][j]==num:\n",
    "            cont+=1\n",
    "\n",
    "print(\"Nombre de vegades que apareix\",num,\":\",cont)"
   ]
  },
  {
   "cell_type": "code",
   "execution_count": 84,
   "metadata": {},
   "outputs": [
    {
     "name": "stdout",
     "output_type": "stream",
     "text": [
      "Nombre de vegades que apareix 11 : 1\n"
     ]
    }
   ],
   "source": [
    "matriu=[[1,2],[11,1]]\n",
    "cont=0\n",
    "num=11\n",
    "\n",
    "for i in range(len(matriu)):\n",
    "    for j in range(len(matriu[i])):\n",
    "        if matriu[i][j]==num:\n",
    "            cont+=1\n",
    "\n",
    "print(\"Nombre de vegades que apareix\",num,\":\",cont)"
   ]
  },
  {
   "cell_type": "markdown",
   "metadata": {},
   "source": [
    "### Problema 5"
   ]
  },
  {
   "cell_type": "code",
   "execution_count": 90,
   "metadata": {},
   "outputs": [
    {
     "data": {
      "text/plain": [
       "(1, 4)"
      ]
     },
     "execution_count": 90,
     "metadata": {},
     "output_type": "execute_result"
    }
   ],
   "source": [
    "def dimen(matriu):\n",
    "    files=len(matriu)\n",
    "    columnes=len(matriu[0])\n",
    "    return([files,columnes])\n",
    "\n",
    "def tupla(m):\n",
    "    for j in range(dimen(m)[1]):\n",
    "        sumes=0\n",
    "        for i in range(dimen(m)[0]):\n",
    "            sumes+=m[i][j]\n",
    "        if j==0 or maxim<sumes:\n",
    "            maxim=sumes\n",
    "            col=j\n",
    "    return((col,maxim))\n",
    "\n",
    "m=[[1,2],[1,2]]\n",
    "tupla(m)"
   ]
  },
  {
   "cell_type": "code",
   "execution_count": 93,
   "metadata": {},
   "outputs": [
    {
     "data": {
      "text/plain": [
       "(1, 7)"
      ]
     },
     "execution_count": 93,
     "metadata": {},
     "output_type": "execute_result"
    }
   ],
   "source": [
    "def tupla(m):\n",
    "    files=len(matriu)\n",
    "    columnes=len(matriu[0])\n",
    "    \n",
    "    for j in range(columnes):\n",
    "        sumes=0\n",
    "        for i in range(files):\n",
    "            sumes+=m[i][j]\n",
    "        if j==0 or maxim<sumes:\n",
    "            maxim=sumes\n",
    "            col=j\n",
    "    return((col,maxim))\n",
    "\n",
    "m=[[1,5],[1,2]]\n",
    "tupla(m)"
   ]
  },
  {
   "cell_type": "markdown",
   "metadata": {},
   "source": [
    "### Problema 6"
   ]
  },
  {
   "cell_type": "code",
   "execution_count": 94,
   "metadata": {},
   "outputs": [
    {
     "name": "stdout",
     "output_type": "stream",
     "text": [
      "[-1, -2, 3, -4]\n"
     ]
    }
   ],
   "source": [
    "def canvisigne(v):\n",
    "    for i in range(len(v)):\n",
    "        v[i]=-v[i]\n",
    "    return(v)\n",
    "\n",
    "v=[1,2,-3,4]\n",
    "print(canvisigne(v))"
   ]
  },
  {
   "cell_type": "markdown",
   "metadata": {},
   "source": [
    "### Problema 7"
   ]
  },
  {
   "cell_type": "code",
   "execution_count": 96,
   "metadata": {},
   "outputs": [
    {
     "name": "stdout",
     "output_type": "stream",
     "text": [
      "[1, 2, 3, 4]\n"
     ]
    }
   ],
   "source": [
    "def valorabs(v):\n",
    "    for i in range(len(v)):\n",
    "        if v[i]<0:\n",
    "            v[i]=-v[i]\n",
    "    return(v)\n",
    "\n",
    "v=[1,2,-3,4]\n",
    "print(valorabs(v))"
   ]
  },
  {
   "cell_type": "markdown",
   "metadata": {},
   "source": [
    "### Problema 8"
   ]
  },
  {
   "cell_type": "code",
   "execution_count": 97,
   "metadata": {},
   "outputs": [
    {
     "name": "stdout",
     "output_type": "stream",
     "text": [
      "[[-1, -2, -3], [1, 2, 3]]\n"
     ]
    }
   ],
   "source": [
    "def canvisig_matriu(m):\n",
    "    for i in range(len(m)):\n",
    "        for j in range(len(m[i])):\n",
    "            m[i][j]=-m[i][j]\n",
    "    return(m)\n",
    "\n",
    "m=[[1,2,3],[-1,-2,-3]]\n",
    "print(canvisig_matriu(m))"
   ]
  },
  {
   "cell_type": "code",
   "execution_count": 99,
   "metadata": {
    "scrolled": true
   },
   "outputs": [
    {
     "name": "stdout",
     "output_type": "stream",
     "text": [
      "[[1, 2, 3], [1, 2, 3]]\n"
     ]
    }
   ],
   "source": [
    "def valorabs_matriu(m):\n",
    "    for i in range(len(m)):\n",
    "        for j in range(len(m[i])):\n",
    "            if m[i][j]<0:\n",
    "                m[i][j]=-m[i][j]\n",
    "    return(m)\n",
    "\n",
    "m=[[1,2,3],[-1,-2,-3]]\n",
    "print(valorabs_matriu(m))"
   ]
  },
  {
   "cell_type": "markdown",
   "metadata": {},
   "source": [
    "### Problema 9"
   ]
  },
  {
   "cell_type": "code",
   "execution_count": 36,
   "metadata": {},
   "outputs": [
    {
     "name": "stdout",
     "output_type": "stream",
     "text": [
      "[1, 3, 5]\n"
     ]
    }
   ],
   "source": [
    "def senars(n):\n",
    "    if n<0:\n",
    "        return \"ERROR: n<0\"\n",
    "    else:\n",
    "        v=[]\n",
    "        for i in range(2*n):\n",
    "            if i%2!=0:\n",
    "                v.append(i)\n",
    "        return v\n",
    "\n",
    "print(senars(3))"
   ]
  },
  {
   "cell_type": "code",
   "execution_count": 37,
   "metadata": {},
   "outputs": [
    {
     "name": "stdout",
     "output_type": "stream",
     "text": [
      "[1, 2, 3, 4]\n"
     ]
    }
   ],
   "source": [
    "def afegeix4(v):\n",
    "    v.append(4)\n",
    "    \n",
    "v=[1,2,3]\n",
    "afegeix4(v)\n",
    "print(v)"
   ]
  },
  {
   "cell_type": "code",
   "execution_count": null,
   "metadata": {},
   "outputs": [],
   "source": []
  },
  {
   "cell_type": "code",
   "execution_count": null,
   "metadata": {},
   "outputs": [],
   "source": []
  },
  {
   "cell_type": "code",
   "execution_count": null,
   "metadata": {},
   "outputs": [],
   "source": []
  },
  {
   "cell_type": "code",
   "execution_count": null,
   "metadata": {},
   "outputs": [],
   "source": []
  },
  {
   "cell_type": "code",
   "execution_count": 39,
   "metadata": {},
   "outputs": [
    {
     "name": "stdout",
     "output_type": "stream",
     "text": [
      "2,3,4,5\n"
     ]
    }
   ],
   "source": [
    "print(2,3,4,5,sep=\",\")"
   ]
  },
  {
   "cell_type": "code",
   "execution_count": null,
   "metadata": {},
   "outputs": [],
   "source": []
  },
  {
   "cell_type": "code",
   "execution_count": null,
   "metadata": {},
   "outputs": [],
   "source": []
  },
  {
   "cell_type": "code",
   "execution_count": null,
   "metadata": {},
   "outputs": [],
   "source": []
  },
  {
   "cell_type": "code",
   "execution_count": null,
   "metadata": {},
   "outputs": [],
   "source": []
  },
  {
   "cell_type": "code",
   "execution_count": 102,
   "metadata": {},
   "outputs": [
    {
     "name": "stdout",
     "output_type": "stream",
     "text": [
      "positiu\n"
     ]
    }
   ],
   "source": [
    "def posneg(x):\n",
    "    if x>0: return 1\n",
    "    else: return 0\n",
    "\n",
    "def posono(x):\n",
    "    if posneg(x):\n",
    "        print(\"positiu\")\n",
    "    else:\n",
    "        print(\"no positiu\")\n",
    "\n",
    "posono(10)"
   ]
  },
  {
   "cell_type": "code",
   "execution_count": 111,
   "metadata": {},
   "outputs": [
    {
     "name": "stdout",
     "output_type": "stream",
     "text": [
      "[1, 10, 4, 3, 7, 2]holaaaa\n"
     ]
    }
   ],
   "source": [
    "v=[2,7,3,4,10,1]\n",
    "i=0\n",
    "while i<len(v)//2:\n",
    "    aux=v[i]\n",
    "    v[i]=v[len(v)-i-1]\n",
    "    v[len(v)-i-1]=aux\n",
    "    i+=1\n",
    "print(v,end=\"\")\n",
    "print(\"holaaaa\")"
   ]
  },
  {
   "cell_type": "code",
   "execution_count": 113,
   "metadata": {},
   "outputs": [
    {
     "name": "stdout",
     "output_type": "stream",
     "text": [
      "Fins quin nombre de la llista de Fibonacci vols que es mostre?-1\n",
      "ERROR: Nombre introduït no vàlid.\n"
     ]
    }
   ],
   "source": [
    "n=int(input(\"Fins quin nombre de la llista de Fibonacci vols que es mostre?\"))\n",
    "aux1=1\n",
    "aux2=1\n",
    "if n<=0:\n",
    "    print(\"ERROR: Nombre introduït no vàlid.\")\n",
    "elif n==1:\n",
    "    print(aux1)\n",
    "elif n==2:\n",
    "    print(aux1,\",\",aux2)\n",
    "else:\n",
    "    print(aux1,\",\",aux2,end=\" \")\n",
    "    while n>2:\n",
    "        aux1,aux2=aux2,aux1+aux2\n",
    "        print(\",\",aux2,end=\" \")\n",
    "        n-=1\n"
   ]
  },
  {
   "cell_type": "code",
   "execution_count": 119,
   "metadata": {},
   "outputs": [
    {
     "ename": "KeyboardInterrupt",
     "evalue": "Interrupted by user",
     "output_type": "error",
     "traceback": [
      "\u001b[0;31m---------------------------------------------------------------------------\u001b[0m",
      "\u001b[0;31mKeyboardInterrupt\u001b[0m                         Traceback (most recent call last)",
      "\u001b[0;32m<ipython-input-119-d0a90e50b23b>\u001b[0m in \u001b[0;36m<module>\u001b[0;34m\u001b[0m\n\u001b[0;32m----> 1\u001b[0;31m \u001b[0mn\u001b[0m\u001b[0;34m=\u001b[0m\u001b[0mint\u001b[0m\u001b[0;34m(\u001b[0m\u001b[0minput\u001b[0m\u001b[0;34m(\u001b[0m\u001b[0;34m\"Fins quin nombre de la llista de Fibonacci vols que es mostre?\"\u001b[0m\u001b[0;34m)\u001b[0m\u001b[0;34m)\u001b[0m\u001b[0;34m\u001b[0m\u001b[0;34m\u001b[0m\u001b[0m\n\u001b[0m\u001b[1;32m      2\u001b[0m \u001b[0;32mif\u001b[0m \u001b[0mn\u001b[0m\u001b[0;34m<=\u001b[0m\u001b[0;36m0\u001b[0m\u001b[0;34m:\u001b[0m\u001b[0;34m\u001b[0m\u001b[0;34m\u001b[0m\u001b[0m\n\u001b[1;32m      3\u001b[0m     \u001b[0mprint\u001b[0m\u001b[0;34m(\u001b[0m\u001b[0;34m\"ERROR\"\u001b[0m\u001b[0;34m)\u001b[0m\u001b[0;34m\u001b[0m\u001b[0;34m\u001b[0m\u001b[0m\n\u001b[1;32m      4\u001b[0m \u001b[0;32melif\u001b[0m \u001b[0mn\u001b[0m\u001b[0;34m==\u001b[0m\u001b[0;36m1\u001b[0m\u001b[0;34m:\u001b[0m \u001b[0mprint\u001b[0m\u001b[0;34m(\u001b[0m\u001b[0;36m1\u001b[0m\u001b[0;34m)\u001b[0m\u001b[0;34m\u001b[0m\u001b[0;34m\u001b[0m\u001b[0m\n\u001b[1;32m      5\u001b[0m \u001b[0;32melif\u001b[0m \u001b[0mn\u001b[0m\u001b[0;34m==\u001b[0m\u001b[0;36m2\u001b[0m\u001b[0;34m:\u001b[0m \u001b[0mprint\u001b[0m\u001b[0;34m(\u001b[0m\u001b[0;36m1\u001b[0m\u001b[0;34m,\u001b[0m\u001b[0;34m\",\"\u001b[0m\u001b[0;34m,\u001b[0m\u001b[0;36m1\u001b[0m\u001b[0;34m)\u001b[0m\u001b[0;34m\u001b[0m\u001b[0;34m\u001b[0m\u001b[0m\n",
      "\u001b[0;32m/var/tmp/sage-9.4-current/local/lib/python3.9/site-packages/ipykernel/kernelbase.py\u001b[0m in \u001b[0;36mraw_input\u001b[0;34m(self, prompt)\u001b[0m\n\u001b[1;32m    858\u001b[0m                 \u001b[0;34m\"raw_input was called, but this frontend does not support input requests.\"\u001b[0m\u001b[0;34m\u001b[0m\u001b[0;34m\u001b[0m\u001b[0m\n\u001b[1;32m    859\u001b[0m             )\n\u001b[0;32m--> 860\u001b[0;31m         return self._input_request(str(prompt),\n\u001b[0m\u001b[1;32m    861\u001b[0m             \u001b[0mself\u001b[0m\u001b[0;34m.\u001b[0m\u001b[0m_parent_ident\u001b[0m\u001b[0;34m,\u001b[0m\u001b[0;34m\u001b[0m\u001b[0;34m\u001b[0m\u001b[0m\n\u001b[1;32m    862\u001b[0m             \u001b[0mself\u001b[0m\u001b[0;34m.\u001b[0m\u001b[0m_parent_header\u001b[0m\u001b[0;34m,\u001b[0m\u001b[0;34m\u001b[0m\u001b[0;34m\u001b[0m\u001b[0m\n",
      "\u001b[0;32m/var/tmp/sage-9.4-current/local/lib/python3.9/site-packages/ipykernel/kernelbase.py\u001b[0m in \u001b[0;36m_input_request\u001b[0;34m(self, prompt, ident, parent, password)\u001b[0m\n\u001b[1;32m    891\u001b[0m             \u001b[0;32mexcept\u001b[0m \u001b[0mKeyboardInterrupt\u001b[0m\u001b[0;34m:\u001b[0m\u001b[0;34m\u001b[0m\u001b[0;34m\u001b[0m\u001b[0m\n\u001b[1;32m    892\u001b[0m                 \u001b[0;31m# re-raise KeyboardInterrupt, to truncate traceback\u001b[0m\u001b[0;34m\u001b[0m\u001b[0;34m\u001b[0m\u001b[0;34m\u001b[0m\u001b[0m\n\u001b[0;32m--> 893\u001b[0;31m                 \u001b[0;32mraise\u001b[0m \u001b[0mKeyboardInterrupt\u001b[0m\u001b[0;34m(\u001b[0m\u001b[0;34m\"Interrupted by user\"\u001b[0m\u001b[0;34m)\u001b[0m \u001b[0;32mfrom\u001b[0m \u001b[0;32mNone\u001b[0m\u001b[0;34m\u001b[0m\u001b[0;34m\u001b[0m\u001b[0m\n\u001b[0m\u001b[1;32m    894\u001b[0m             \u001b[0;32melse\u001b[0m\u001b[0;34m:\u001b[0m\u001b[0;34m\u001b[0m\u001b[0;34m\u001b[0m\u001b[0m\n\u001b[1;32m    895\u001b[0m                 \u001b[0;32mbreak\u001b[0m\u001b[0;34m\u001b[0m\u001b[0;34m\u001b[0m\u001b[0m\n",
      "\u001b[0;31mKeyboardInterrupt\u001b[0m: Interrupted by user"
     ]
    }
   ],
   "source": [
    "n=int(input(\"Fins quin nombre de la llista de Fibonacci vols que es mostre?\"))\n",
    "if n<=0:\n",
    "    print(\"ERROR\")\n",
    "elif n==1: print(1)\n",
    "elif n==2: print(1,\",\",1)\n",
    "else:\n",
    "    v=[1]*n\n",
    "    print(v[0],\",\",v[1],end=\" \")\n",
    "    i=2\n",
    "    while i<n:\n",
    "        v[i]=v[i-1]+v[i-2]\n",
    "        print(\",\",v[i], end=\" \")\n",
    "        i+=1\n",
    "\n",
    "    "
   ]
  },
  {
   "cell_type": "code",
   "execution_count": 125,
   "metadata": {},
   "outputs": [
    {
     "name": "stdout",
     "output_type": "stream",
     "text": [
      "Num:10\n",
      "ERROR: Nombre més gran que 5\n"
     ]
    }
   ],
   "source": [
    "n=int(input(\"Num:\"))\n",
    "if n<=5:\n",
    "    for i in range(5-n+1):\n",
    "        if i==5-n:\n",
    "            print(n+i)\n",
    "        else:\n",
    "            print(n+i,\",\",end=\" \")\n",
    "else: \n",
    "    print(\"ERROR: Nombre més gran que 5\")"
   ]
  },
  {
   "cell_type": "code",
   "execution_count": 126,
   "metadata": {},
   "outputs": [
    {
     "name": "stdout",
     "output_type": "stream",
     "text": [
      "Num:10\n",
      "10 , 9 , 8 , 7 , 6 , 5 , 4 , 3 , 2 , 1\n"
     ]
    }
   ],
   "source": [
    "n=int(input(\"Num:\"))\n",
    "if n<1: print(\"ERROR: Nombre més petit que 1.\")\n",
    "else:\n",
    "    for i in range(n,0,-1):\n",
    "        if i==1:\n",
    "            print(i)\n",
    "        else:\n",
    "            print(i,\",\",end=\" \")"
   ]
  },
  {
   "cell_type": "code",
   "execution_count": 139,
   "metadata": {},
   "outputs": [
    {
     "data": {
      "text/plain": [
       "3"
      ]
     },
     "execution_count": 139,
     "metadata": {},
     "output_type": "execute_result"
    }
   ],
   "source": [
    "v=[1,2,3,4]\n",
    "v.insert(1,0)\n",
    "v.pop(3)"
   ]
  },
  {
   "cell_type": "code",
   "execution_count": null,
   "metadata": {},
   "outputs": [],
   "source": []
  },
  {
   "cell_type": "code",
   "execution_count": null,
   "metadata": {},
   "outputs": [],
   "source": []
  },
  {
   "cell_type": "code",
   "execution_count": 142,
   "metadata": {},
   "outputs": [
    {
     "name": "stdout",
     "output_type": "stream",
     "text": [
      "[0, 2, 4, 1, 1]\n"
     ]
    }
   ],
   "source": [
    "v.append(1)\n",
    "v.count(1)\n",
    "v.remove(1)\n",
    "print(v)"
   ]
  },
  {
   "cell_type": "code",
   "execution_count": 143,
   "metadata": {},
   "outputs": [
    {
     "name": "stdout",
     "output_type": "stream",
     "text": [
      "trobat a l'índex: 2\n"
     ]
    }
   ],
   "source": [
    "v=[1,2,3,4,5]\n",
    "if 3 in v:\n",
    "    for i,x in enumerate(v):\n",
    "        if x==3:\n",
    "            print(\"trobat a l'índex:\",i)\n",
    "else:\n",
    "    print(\"no trobat\")"
   ]
  },
  {
   "cell_type": "code",
   "execution_count": 146,
   "metadata": {},
   "outputs": [
    {
     "name": "stdout",
     "output_type": "stream",
     "text": [
      "[5, 4, 3, 2, 1, 0]\n"
     ]
    }
   ],
   "source": [
    "v=[0,1,5,3,2,4]\n",
    "for i in range(len(v)):\n",
    "    v[i]=-v[i]\n",
    "v.sort()\n",
    "for i in range(len(v)):\n",
    "    v[i]=-v[i]\n",
    "print(v)"
   ]
  },
  {
   "cell_type": "code",
   "execution_count": 149,
   "metadata": {},
   "outputs": [
    {
     "name": "stdout",
     "output_type": "stream",
     "text": [
      "[1, 2, 3, 4, 5, 6]\n"
     ]
    }
   ],
   "source": [
    "def inserta(v,n):\n",
    "    for i in range(len(v)):\n",
    "        if v[i]<=n:\n",
    "            continue\n",
    "        else:\n",
    "            v.insert(i,n)\n",
    "            break\n",
    "\n",
    "v=[1,2,3,5,6]\n",
    "inserta(v,4)\n",
    "print(v)"
   ]
  },
  {
   "cell_type": "code",
   "execution_count": null,
   "metadata": {},
   "outputs": [],
   "source": []
  },
  {
   "cell_type": "code",
   "execution_count": 156,
   "metadata": {},
   "outputs": [
    {
     "name": "stdout",
     "output_type": "stream",
     "text": [
      "[6, 5, 4, 3, 2, 1]\n"
     ]
    }
   ],
   "source": [
    "v=[1,2,3,4,5,6]\n",
    "i=0\n",
    "while i<len(v)//2:\n",
    "    v[i],v[len(v)-i-1]=v[len(v)-i-1],v[i]\n",
    "    i=i+1\n",
    "print(v)"
   ]
  },
  {
   "cell_type": "code",
   "execution_count": 157,
   "metadata": {},
   "outputs": [
    {
     "name": "stdout",
     "output_type": "stream",
     "text": [
      "{20, 30}\n"
     ]
    }
   ],
   "source": [
    "c={30,30,20}\n",
    "print(c)"
   ]
  },
  {
   "cell_type": "code",
   "execution_count": 158,
   "metadata": {},
   "outputs": [
    {
     "name": "stdout",
     "output_type": "stream",
     "text": [
      "[[0, 0, 0], [0, 0, 0], [0, 0, 0], [0, 0, 0], [0, 0, 0]]\n"
     ]
    }
   ],
   "source": [
    "m=[[0]*3]*5\n",
    "print(m)"
   ]
  },
  {
   "cell_type": "code",
   "execution_count": 163,
   "metadata": {},
   "outputs": [
    {
     "name": "stdout",
     "output_type": "stream",
     "text": [
      "Cula, bona tarda\n"
     ]
    }
   ],
   "source": [
    "a=\"Hola, bona tarda\"\n",
    "s=a.replace(\"Ho\",\"Cu\")\n",
    "print(s)"
   ]
  },
  {
   "cell_type": "markdown",
   "metadata": {},
   "source": [
    "## Sessió 7\n",
    "### <code> STRINGS </code>\n",
    "#### Problema 1"
   ]
  },
  {
   "cell_type": "code",
   "execution_count": 1,
   "metadata": {},
   "outputs": [
    {
     "name": "stdout",
     "output_type": "stream",
     "text": [
      "Edat?:19\n",
      "La teua edat és 19 anys\n"
     ]
    }
   ],
   "source": [
    "n=int(input(\"Edat?:\"))\n",
    "s=\"La teua edat és \"+str(n)+\" anys\"\n",
    "print(s)"
   ]
  },
  {
   "cell_type": "markdown",
   "metadata": {},
   "source": [
    "#### Problema 2"
   ]
  },
  {
   "cell_type": "code",
   "execution_count": 6,
   "metadata": {},
   "outputs": [
    {
     "name": "stdout",
     "output_type": "stream",
     "text": [
      "Entra el teu nom: Pep\n",
      "Entra la teua edat: 21\n",
      "Hola Pep, la teua edat és 21\n"
     ]
    }
   ],
   "source": [
    "nom=input(\"Entra el teu nom: \")\n",
    "edat=int(input(\"Entra la teua edat: \"))\n",
    "s=\"Hola \"+nom+\", la teua edat és \"+str(edat)\n",
    "print(s)"
   ]
  },
  {
   "cell_type": "code",
   "execution_count": 6,
   "metadata": {},
   "outputs": [
    {
     "name": "stdout",
     "output_type": "stream",
     "text": [
      "Entra el teu nom: Jose\n",
      "Entra la teua edat: 22\n",
      "Hola Jose, la teua edat és 22\n",
      "Felicitats, ets major d'edat!\n"
     ]
    }
   ],
   "source": [
    "nom=input(\"Entra el teu nom: \")\n",
    "edat=int(input(\"Entra la teua edat: \"))\n",
    "s=\"Hola \"+nom+\", la teua edat és \"+str(edat)\n",
    "print(s)\n",
    "if edat>=18:\n",
    "    print(\"Felicitats, ets major d'edat!\")"
   ]
  },
  {
   "cell_type": "markdown",
   "metadata": {},
   "source": [
    "#### Problema 3"
   ]
  },
  {
   "cell_type": "code",
   "execution_count": 8,
   "metadata": {
    "scrolled": true
   },
   "outputs": [
    {
     "name": "stdout",
     "output_type": "stream",
     "text": [
      "El següent nombre de la sèrie és:1\n",
      "El següent nombre de la sèrie és:2\n",
      "El següent nombre de la sèrie és:3\n",
      "El següent nombre de la sèrie és:4\n",
      "El següent nombre de la sèrie és:5\n"
     ]
    }
   ],
   "source": [
    "for i in range(5):\n",
    "    print(\"El següent nombre de la sèrie és:\"+str(i+1))"
   ]
  },
  {
   "cell_type": "code",
   "execution_count": 11,
   "metadata": {},
   "outputs": [
    {
     "name": "stdout",
     "output_type": "stream",
     "text": [
      "El primer nombre de la sèrie és:1\n",
      "El següent nombre de la sèrie és: 2\n",
      "El següent nombre de la sèrie és: 3\n",
      "El següent nombre de la sèrie és: 4\n",
      "El següent nombre de la sèrie és: 5\n"
     ]
    }
   ],
   "source": [
    "for i in range(5):\n",
    "    if i==0:\n",
    "        print(\"El primer nombre de la sèrie és:1\")\n",
    "    else:\n",
    "        print(\"El següent nombre de la sèrie és:\",i+1)"
   ]
  },
  {
   "cell_type": "code",
   "execution_count": 2,
   "metadata": {},
   "outputs": [
    {
     "name": "stdout",
     "output_type": "stream",
     "text": [
      "Escriu una frase:Hola caracola bon dia\n",
      "dia bon caracola Hola "
     ]
    }
   ],
   "source": [
    "frase=input(\"Escriu una frase:\")\n",
    "llista=frase.split()\n",
    "\n",
    "for i in range(len(llista)):\n",
    "    print(llista[len(llista)-1-i], end=\" \")\n"
   ]
  },
  {
   "cell_type": "markdown",
   "metadata": {},
   "source": [
    "### <code>FITXERS</code>\n",
    "#### Problema 5 i 6"
   ]
  },
  {
   "cell_type": "code",
   "execution_count": 20,
   "metadata": {
    "scrolled": true
   },
   "outputs": [
    {
     "name": "stdout",
     "output_type": "stream",
     "text": [
      "['2', '5', '9', '20', '63']\n",
      "2\n",
      "5\n",
      "9\n",
      "20\n",
      "63\n",
      "Suma total = 99\n"
     ]
    }
   ],
   "source": [
    "f=open(\"ex5.txt\",\"r\")\n",
    "con=f.read()\n",
    "l=con.split(\"\\n\")\n",
    "print(l)\n",
    "\n",
    "suma=0\n",
    "for i in range(len(l)):\n",
    "    print(l[i])\n",
    "    suma=suma+int(l[i])\n",
    "print(\"Suma total =\",suma)\n",
    "f.close()"
   ]
  },
  {
   "cell_type": "markdown",
   "metadata": {},
   "source": [
    "#### Problema 7"
   ]
  },
  {
   "cell_type": "code",
   "execution_count": 22,
   "metadata": {},
   "outputs": [
    {
     "name": "stdout",
     "output_type": "stream",
     "text": [
      "['2', '5', '9', '20', '63', '78', '-3', '5', '74', '8']\n",
      "2\n",
      "5\n",
      "9\n",
      "20\n",
      "63\n",
      "78\n",
      "-3\n",
      "5\n",
      "74\n",
      "8\n",
      "Suma total = 261\n",
      "Nombre total de números = 10\n"
     ]
    }
   ],
   "source": [
    "f=open(\"ex7.txt\",\"r\")\n",
    "con=f.read()\n",
    "l=con.split(\"\\n\")\n",
    "\n",
    "suma=0\n",
    "cont=0\n",
    "for i in range(len(l)):\n",
    "    print(l[i])\n",
    "    suma=suma+int(l[i])\n",
    "    cont+=1\n",
    "print(\"Suma total =\",suma)\n",
    "print(\"Nombre total de números =\",cont)\n",
    "f.close()"
   ]
  },
  {
   "cell_type": "markdown",
   "metadata": {},
   "source": [
    "#### Problema 8"
   ]
  },
  {
   "cell_type": "code",
   "execution_count": 27,
   "metadata": {},
   "outputs": [
    {
     "name": "stdout",
     "output_type": "stream",
     "text": [
      "63\n",
      "20\n",
      "9\n",
      "5\n",
      "2\n"
     ]
    }
   ],
   "source": [
    "f=open(\"ex8.txt\",\"r\")\n",
    "con=f.readlines()\n",
    "for i in range(len(con)):\n",
    "    print(con[len(con)-1-i], end=\"\")\n",
    "f.close()"
   ]
  },
  {
   "cell_type": "markdown",
   "metadata": {},
   "source": [
    "#### Problema 9"
   ]
  },
  {
   "cell_type": "code",
   "execution_count": 40,
   "metadata": {},
   "outputs": [],
   "source": [
    "f=open(\"ex9.txt\",'r')\n",
    "g=open(\"rex9.txt\",'w')\n",
    "\n",
    "for linia in f:\n",
    "    linia=linia.strip()\n",
    "    if linia==\"\":\n",
    "        pass\n",
    "    g.write(linia+'\\n')\n",
    "\n",
    "f.close()\n",
    "g.close()"
   ]
  },
  {
   "cell_type": "markdown",
   "metadata": {},
   "source": [
    "#### Problema 10"
   ]
  },
  {
   "cell_type": "code",
   "execution_count": 44,
   "metadata": {},
   "outputs": [
    {
     "name": "stdout",
     "output_type": "stream",
     "text": [
      "Suma (linia 1): 21.21\n"
     ]
    }
   ],
   "source": [
    "try:\n",
    "    f=open(\"ex10.txt\",'r')\n",
    "    cont=1\n",
    "    for linia in f:\n",
    "        linia=linia.strip()\n",
    "        l=linia.split(\",\")\n",
    "        suma=0\n",
    "        for i in range(len(l)):\n",
    "            try:\n",
    "                l[i]=float(l[i])\n",
    "                suma+=l[i]\n",
    "            except ValueError:\n",
    "                pass\n",
    "        print(f\"Suma (linia {cont}): {suma}\")\n",
    "except FileNotFound:\n",
    "    print(\"Fitxer no trobat\")"
   ]
  },
  {
   "cell_type": "markdown",
   "metadata": {},
   "source": [
    "#### Problema 11"
   ]
  },
  {
   "cell_type": "code",
   "execution_count": 50,
   "metadata": {},
   "outputs": [],
   "source": [
    "f=open(\"ex11a.txt\",'r')\n",
    "matriu=[]\n",
    "for linia in f:\n",
    "    linia=linia.strip()\n",
    "    linia=linia.split(',')\n",
    "    for i in range(len(linia)):\n",
    "        linia[i]=int(linia[i])\n",
    "    matriu.append(linia)\n"
   ]
  },
  {
   "cell_type": "markdown",
   "metadata": {},
   "source": [
    "## Sessió 8\n",
    "### <code> PARKINGS </code>"
   ]
  },
  {
   "cell_type": "code",
   "execution_count": 1,
   "metadata": {},
   "outputs": [
    {
     "name": "stdout",
     "output_type": "stream",
     "text": [
      "Ciencies\n",
      "[0, 0, 1, 1, 0, 0, 0, 0, 0, 1, 1, 1, 0, 1, 0, 1, 1, 1, 0, 0]\n",
      "[1, 0, 1, 1, 0, 0, 0, 0, 0, 1, 1, 1, 0, 1, 0, 1, 1, 1, 0, 0]\n",
      "[1, 0, 1, 0, 0, 0, 1, 0, 0, 1, 1, 1, 1, 1, 0, 1, 1, 1, 0, 0]\n",
      "[0, 0, 1, 1, 0, 0, 0, 0, 0, 1, 1, 1, 0, 1, 0, 1, 1, 1, 1, 1]\n",
      "[0, 0, 1, 1, 0, 1, 0, 0, 0, 0, 0, 0, 0, 1, 0, 1, 1, 1, 0, 0]\n",
      "LLetres\n",
      "[0, 0, 1, 1, 0, 0, 0, 0, 0, 1, 1, 1, 0, 1, 0, 1, 1, 1, 0, 0]\n",
      "[1, 0, 1, 1, 0, 0, 0, 0, 0, 1, 1, 1, 0, 1, 0, 1, 1, 1, 0, 0]\n",
      "[1, 0, 1, 0, 0, 0, 1, 0, 0, 1, 1, 1, 1, 1, 0, 1, 1, 1, 0, 0]\n",
      "[0, 0, 1, 1, 0, 0, 0, 0, 0, 1, 1, 1, 0, 1, 0, 1, 1, 1, 1, 1]\n",
      "[0, 0, 1, 1, 0, 1, 0, 0, 0, 0, 0, 0, 0, 1, 0, 1, 1, 1, 0, 0]\n",
      "Medicina\n",
      "[0, 0, 1, 1, 0, 0, 0, 0, 0, 1, 0, 1, 0, 1, 0, 1, 1, 1, 0, 0]\n",
      "[1, 0, 1, 1, 0, 0, 0, 0, 0, 1, 0, 1, 0, 1, 0, 1, 1, 1, 0, 0]\n",
      "[1, 0, 1, 0, 0, 0, 1, 0, 0, 1, 0, 1, 1, 1, 0, 1, 1, 1, 0, 0]\n",
      "[0, 0, 1, 1, 0, 0, 0, 0, 0, 1, 0, 0, 0, 0, 0, 0, 0, 0, 0, 1]\n",
      "[0, 0, 1, 1, 0, 1, 0, 0, 0, 0, 0, 0, 0, 1, 0, 1, 1, 1, 0, 0]\n",
      "Parking menys ocupat: Medicina\n",
      "Nombre de places lliures: 62\n",
      "Parking menys ocupat: Ciencies\n",
      "Nombre de places lliures: 48\n"
     ]
    }
   ],
   "source": [
    "class Parking:\n",
    "    def __init__(self, nom):\n",
    "        self.nom=nom\n",
    "        self.plantes=[]\n",
    "    def mostra(self):\n",
    "        print(self.nom)\n",
    "        for p in self.plantes:\n",
    "            p.mostra()\n",
    "    def placesOcupades(self):\n",
    "        suma=0\n",
    "        for i in range(len(self.plantes)):\n",
    "            suma+=self.plantes[i].placesOcupades()\n",
    "        return suma\n",
    "    def numPlaces(self):\n",
    "        suma=0\n",
    "        for i in range(len(self.plantes)):\n",
    "            suma+=self.plantes[i].numPlaces()\n",
    "        return suma\n",
    "    def placesLliures(self):\n",
    "        suma=0\n",
    "        for i in range(len(self.plantes)):\n",
    "            suma+=self.plantes[i].placesLliures()\n",
    "        return suma\n",
    "    \n",
    "    def estats_plantes(self):\n",
    "        print(self.nom)\n",
    "        print(\"Total places lliures:\", self.placesLliures())\n",
    "        print(\"Total places ocupades:\", self.placesOcupades())\n",
    "        print(\"\\n\")\n",
    "        for i in range(len(self.plantes)):\n",
    "            print(\"Planta\",i)\n",
    "            print(\"Places lliures:\",self.plantes[i].placesLliures())\n",
    "            print(\"Places ocupades:\",self.plantes[i].placesOcupades())\n",
    "            print(\"\\n\")\n",
    "    \n",
    "    \n",
    "class Planta:\n",
    "    def __init__(self, llista):\n",
    "        self.places=llista\n",
    "    def mostra(self):\n",
    "        print(self.places)\n",
    "    def placesOcupades(self):\n",
    "        cont=0\n",
    "        for i in range(len(self.places)):\n",
    "            if self.places[i]==1:\n",
    "                cont+=1\n",
    "        return cont\n",
    "    def numPlaces(self):\n",
    "        return len(self.places)\n",
    "    def placesLliures(self):\n",
    "        cont=0\n",
    "        for i in range(len(self.places)):\n",
    "            if self.places[i]==0:\n",
    "                cont+=1\n",
    "        return cont\n",
    "   \n",
    "    \n",
    "        \n",
    "def llegirParking(fitxer):\n",
    "    f=open(fitxer, 'r')\n",
    "    parkings={}\n",
    "    cont=0\n",
    "    for linia in f:\n",
    "        linia=linia.strip()\n",
    "        if cont==0:\n",
    "            p=Parking(linia)\n",
    "            parkings[p.nom]=p\n",
    "        elif linia==\"\":\n",
    "            cont=0\n",
    "            continue\n",
    "        else:\n",
    "            v=linia.split(\" \")\n",
    "            for i in range(len(v)):\n",
    "                v[i]=int(v[i])\n",
    "            p.plantes.append(Planta(v))\n",
    "        cont+=1\n",
    "    return parkings\n",
    "\n",
    "def mostraParkings(parkings):\n",
    "    for p in parkings:\n",
    "        parkings[p].mostra()\n",
    "        \n",
    "def ocupacioParkings(parkings):\n",
    "    for p in parkings:\n",
    "        parkings[p].estats_plantes()\n",
    "\n",
    "def ocuparPlaca(parkings, nomParking, planta, placa):\n",
    "    parkings[nomParking].plantes[planta].places[placa]=1\n",
    "    \n",
    "def mostrarParkingMenysOcupat(parkings):\n",
    "    cont=True\n",
    "    for p in parkings:\n",
    "        if cont:\n",
    "            nom_menys=p\n",
    "            lliures=parkings[p].placesLliures()\n",
    "            cont=False\n",
    "        else:\n",
    "            if lliures<parkings[p].placesLliures():\n",
    "                nom_menys=p\n",
    "                lliures=parkings[p].placesLliures()\n",
    "    print(\"Parking menys ocupat:\",nom_menys)\n",
    "    print(\"Nombre de places lliures:\", lliures)\n",
    "\n",
    "def mostrarParkingMesOcupat(parkings):\n",
    "    cont=True\n",
    "    for p in parkings:\n",
    "        if cont:\n",
    "            nom_mes=p\n",
    "            ocupades=parkings[p].placesOcupades()\n",
    "            cont=False\n",
    "        else:\n",
    "            if ocupades<parkings[p].placesOcupades():\n",
    "                nom_mes=p\n",
    "                ocupades=parkings[p].placesOcupades()\n",
    "    print(\"Parking menys ocupat:\",nom_mes)\n",
    "    print(\"Nombre de places lliures:\", ocupades)\n",
    "        \n",
    "parkings=llegirParking(\"parkings.txt\")\n",
    "mostraParkings(parkings)\n",
    "mostrarParkingMenysOcupat(parkings)\n",
    "mostrarParkingMesOcupat(parkings)\n",
    "\n",
    "\n",
    "\n",
    "\n",
    "\n",
    "\n"
   ]
  },
  {
   "cell_type": "markdown",
   "metadata": {},
   "source": [
    "# Sessió 9\n",
    "### Problema 1"
   ]
  },
  {
   "cell_type": "code",
   "execution_count": 2,
   "metadata": {},
   "outputs": [
    {
     "name": "stdout",
     "output_type": "stream",
     "text": [
      "[10,20,30]\n"
     ]
    }
   ],
   "source": [
    "def printlist(x):\n",
    "    print(\"[\", end=\"\")\n",
    "    for i in range(len(x)):\n",
    "        print(f\"{x[i]}\", end=\"\")\n",
    "        if i!=len(x)-1:\n",
    "            print(\",\",end=\"\")\n",
    "    print(\"]\")\n",
    "\n",
    "num=[10,20,30]\n",
    "printlist(num)"
   ]
  },
  {
   "cell_type": "markdown",
   "metadata": {},
   "source": [
    "### Problema 2"
   ]
  },
  {
   "cell_type": "code",
   "execution_count": 9,
   "metadata": {},
   "outputs": [
    {
     "name": "stdout",
     "output_type": "stream",
     "text": [
      "[[1,2,3]\n",
      " [4,5,6]\n",
      " [7,8,9]]\n"
     ]
    }
   ],
   "source": [
    "def printlist(x,salt):\n",
    "    print(\"[\", end=\"\")\n",
    "    for i in range(len(x)):\n",
    "        print(f\"{x[i]}\", end=\"\")\n",
    "        if i!=len(x)-1:\n",
    "            print(\",\",end=\"\")\n",
    "    print(\"]\", end=salt)\n",
    "    \n",
    "def printmatrix(m):\n",
    "    print(\"[\", end=\"\")\n",
    "    for i in range(len(m)):\n",
    "        if i!=0:\n",
    "            print(\" \",end=\"\")\n",
    "        if i!=len(m)-1:\n",
    "            printlist(m[i], \"\\n\")\n",
    "        else:\n",
    "            printlist(m[i], \"\")\n",
    "    print(\"]\")\n",
    "        \n",
    "\n",
    "\n",
    "m=[[1,2,3],[4,5,6],[7,8,9]]\n",
    "printmatrix(m)"
   ]
  },
  {
   "cell_type": "markdown",
   "metadata": {},
   "source": [
    "### Problema 3"
   ]
  },
  {
   "cell_type": "code",
   "execution_count": 28,
   "metadata": {},
   "outputs": [],
   "source": [
    "f1=open(\"edats.txt\",'r')\n",
    "f2=open(\"Rescriu.txt\",'w')\n",
    "for linia in f1:\n",
    "    linia=linia.strip()\n",
    "    if linia==\"\":\n",
    "        pass\n",
    "    else:\n",
    "        f2.write(linia)\n",
    "        f2.write(\"\\n\")\n",
    "\n",
    "f1.close()\n",
    "f2.close()"
   ]
  },
  {
   "cell_type": "markdown",
   "metadata": {},
   "source": [
    "### Problema 4"
   ]
  },
  {
   "cell_type": "code",
   "execution_count": 47,
   "metadata": {},
   "outputs": [
    {
     "name": "stdout",
     "output_type": "stream",
     "text": [
      "[('Sotanito', 20), ('Fulanito', 22), ('Menganito', 23), ('Fulgencio', 22), ('Margarito', 24), ('Rumiantro', 23), ('Sotanita', 20), ('Fulanita', 22), ('Menganita', 23), ('Fulgencia', 22), ('Margarita', 24), ('Rumiantra', 23)]\n",
      "{'Sotanito': 20, 'Fulanito': 22, 'Menganito': 23, 'Fulgencio': 22, 'Margarito': 24, 'Rumiantro': 23, 'Sotanita': 20, 'Fulanita': 22, 'Menganita': 23, 'Fulgencia': 22, 'Margarita': 24, 'Rumiantra': 23}\n",
      "{20: ['Sotanito', 'Sotanita'], 22: ['Fulanito', 'Fulgencio', 'Fulanita', 'Fulgencia'], 23: ['Menganito', 'Rumiantro', 'Menganita', 'Rumiantra'], 24: ['Margarito', 'Margarita']}\n"
     ]
    }
   ],
   "source": [
    "f=open(\"edats.txt\",'r')\n",
    "tuples=[]\n",
    "diccio={}\n",
    "diccio2={}\n",
    "for linia in f:\n",
    "#TUPLES\n",
    "    linia=linia.strip()\n",
    "    l=linia.split(\"=\")  \n",
    "    tuples.append((l[0],int(l[1])))\n",
    "    \n",
    "#DICCIONARI 1\n",
    "    diccio[l[0]]=int(l[1])\n",
    "\n",
    "#DICCIONARI 2\n",
    "for t in tuples:\n",
    "    if t[1] in diccio2:\n",
    "        diccio2[t[1]].append(t[0])\n",
    "    else:\n",
    "        diccio2[t[1]]=[t[0]]\n",
    "\n",
    "\n",
    "\n",
    "print(tuples)\n",
    "print(diccio)\n",
    "print(diccio2)\n",
    "    \n",
    "f.close()"
   ]
  },
  {
   "cell_type": "markdown",
   "metadata": {},
   "source": [
    "### Problema 5"
   ]
  },
  {
   "cell_type": "code",
   "execution_count": 51,
   "metadata": {},
   "outputs": [
    {
     "name": "stdout",
     "output_type": "stream",
     "text": [
      "{'Alarico I': {'any_coronacio': '395', 'any_mort': '410'}, 'Ataúlfo': {'any_coronacio': '410', 'any_mort': '415'}, 'Sigérico': {'any_coronacio': '415', 'any_mort': '415'}, 'Walia': {'any_coronacio': '415', 'any_mort': '418'}, 'Teodorico': {'any_coronacio': '418', 'any_mort': '451'}, 'Turismundo': {'any_coronacio': '451', 'any_mort': '453'}, 'Teodorico II': {'any_coronacio': '453', 'any_mort': '466'}, 'Eurico': {'any_coronacio': '466', 'any_mort': '484'}, 'Alarico II': {'any_coronacio': '484', 'any_mort': '507'}, 'Gesaleico': {'any_coronacio': '507', 'any_mort': '510'}, 'Amalarico': {'any_coronacio': '510', 'any_mort': '531'}, 'Theudis': {'any_coronacio': '531', 'any_mort': '548'}, 'Theudisclo': {'any_coronacio': '548', 'any_mort': '549'}, 'Agila I': {'any_coronacio': '549', 'any_mort': '551'}, 'Atanagildo': {'any_coronacio': '551', 'any_mort': '567'}, 'Liuva I': {'any_coronacio': '567', 'any_mort': '572'}, 'Leovigildo': {'any_coronacio': '572', 'any_mort': '586'}, 'Recaredo': {'any_coronacio': '586', 'any_mort': '601'}, 'Liuva II': {'any_coronacio': '601', 'any_mort': '603'}, 'Witérico': {'any_coronacio': '603', 'any_mort': '610'}, 'Gundemaro': {'any_coronacio': '610', 'any_mort': '612'}, 'Sisebuto': {'any_coronacio': '612', 'any_mort': '621'}, 'Recaredo II': {'any_coronacio': '621', 'any_mort': '621'}, 'Suíntila': {'any_coronacio': '621', 'any_mort': '631'}, 'Sisenando': {'any_coronacio': '631', 'any_mort': '636'}, 'Khíntila': {'any_coronacio': '636', 'any_mort': '639'}, 'Tulga': {'any_coronacio': '639', 'any_mort': '642'}, 'Khindasvinto': {'any_coronacio': '642', 'any_mort': '653'}, 'Recesvinto': {'any_coronacio': '653', 'any_mort': '672'}, 'Wamba': {'any_coronacio': '672', 'any_mort': '680'}, 'Ervigio': {'any_coronacio': '680', 'any_mort': '687'}, 'Egica': {'any_coronacio': '687', 'any_mort': '700'}, 'Witiza': {'any_coronacio': '700', 'any_mort': '710'}, 'Rodrigo': {'any_coronacio': '710', 'any_mort': '711'}}\n"
     ]
    }
   ],
   "source": [
    "f=open(\"godos.txt\",'r')\n",
    "dic={}\n",
    "for linia in f:\n",
    "    linia=linia.strip()\n",
    "    linia=linia.replace(\"(\",\"*\")\n",
    "    linia=linia.replace(\")\",\"*\")\n",
    "    v=linia.split('*')\n",
    "    v[0]=v[0].strip()\n",
    "    v[1]=v[1].split(\"-\")\n",
    "    dic[v[0]]={'any_coronacio':int(v[1][0]),'any_mort':int(v[1][1])}\n",
    "print(dic)"
   ]
  },
  {
   "cell_type": "markdown",
   "metadata": {},
   "source": [
    "# Sessió 10\n",
    "### Problema 1"
   ]
  },
  {
   "cell_type": "code",
   "execution_count": 2,
   "metadata": {},
   "outputs": [
    {
     "name": "stdout",
     "output_type": "stream",
     "text": [
      "6\n"
     ]
    }
   ],
   "source": [
    "def suma(*valor):\n",
    "    suma=0\n",
    "    for i in range(len(valor)):\n",
    "        suma+=valor[i]\n",
    "    return suma\n",
    "\n",
    "print(suma(1,2,3))"
   ]
  },
  {
   "cell_type": "markdown",
   "metadata": {},
   "source": [
    "### Problema 2"
   ]
  },
  {
   "cell_type": "code",
   "execution_count": 16,
   "metadata": {},
   "outputs": [
    {
     "name": "stdout",
     "output_type": "stream",
     "text": [
      "Resultats:\n",
      "\n",
      "- 10/2 = 5.0\n",
      "- 20/0 = ERROR\n",
      "- 3/5 = 0.6\n",
      "- 1/Z = ERROR\n"
     ]
    }
   ],
   "source": [
    "num=[10,20,3,1]\n",
    "den=[2,0,5,\"Z\"]\n",
    "result=[]\n",
    "print(\"Resultats:\\n\")\n",
    "for i in range(len(num)):\n",
    "    try:\n",
    "        result.append(int(num[i])/int(den[i]))\n",
    "        print(f\"- {num[i]}/{den[i]} = {result[len(result)-1]}\")\n",
    "    except ZeroDivisionError:\n",
    "        print(f\"- {num[i]}/{den[i]} = ERROR\")\n",
    "    except ValueError:\n",
    "        print(f\"- {num[i]}/{den[i]} = ERROR\")"
   ]
  },
  {
   "cell_type": "markdown",
   "metadata": {},
   "source": [
    "### Problema 3"
   ]
  },
  {
   "cell_type": "code",
   "execution_count": 20,
   "metadata": {},
   "outputs": [
    {
     "name": "stdout",
     "output_type": "stream",
     "text": [
      "Entra num 1:1\n",
      "Entra num 2:2\n",
      "Entra num 3:3\n",
      "Entra num 4:4\n",
      "Entra num 5:F\n",
      "ERROR: Nombre entrat incorrecte. Torna a introduir un enter.\n",
      "Entra num 5:5\n",
      "Llista: [1, 2, 3, 4, 5]\n"
     ]
    }
   ],
   "source": [
    "llista=[]\n",
    "i=0\n",
    "while i<5:\n",
    "    try:\n",
    "        n=int(input(f\"Entra num {i+1}:\"))\n",
    "        llista.append(n)\n",
    "        i+=1\n",
    "    except ValueError:\n",
    "        print(\"ERROR: Nombre entrat incorrecte. Torna a introduir un enter.\")\n",
    "print(f\"Llista: {llista}\")"
   ]
  },
  {
   "cell_type": "markdown",
   "metadata": {},
   "source": [
    "### Problema 4\n",
    "#### Apartat (a)"
   ]
  },
  {
   "cell_type": "code",
   "execution_count": 24,
   "metadata": {},
   "outputs": [
    {
     "name": "stdout",
     "output_type": "stream",
     "text": [
      "{'headers': ['nom', 'genere', 'edat', 'fuma'], 'data': [['Fulanito', 'm', '20', '1'], ['Sotanito', 'm', '19', '0'], ['Menganito', 'm', '21', '0'], ['Fulanita', 'f', '25', '1'], ['Sotanita', 'f', '17', '0'], ['Menganita', 'f', '18', '0']]}\n"
     ]
    }
   ],
   "source": [
    "f=open(\"persones.csv\",'r')\n",
    "index=0\n",
    "csv={}\n",
    "for linea in f:\n",
    "    linea=linea.strip()\n",
    "    linea=linea.split(\";\")\n",
    "    if index==0:\n",
    "        csv[\"headers\"]=linea\n",
    "    elif index==1:\n",
    "        csv[\"data\"]=[linea]\n",
    "    else:\n",
    "        csv[\"data\"].append(linea)\n",
    "    index+=1\n",
    "    \n",
    "print(csv)"
   ]
  },
  {
   "cell_type": "markdown",
   "metadata": {},
   "source": [
    "#### Apartat (b)"
   ]
  },
  {
   "cell_type": "code",
   "execution_count": 26,
   "metadata": {},
   "outputs": [
    {
     "data": {
      "text/plain": [
       "{'headers': ['nom', 'genere', 'edat', 'fuma'],\n",
       " 'data': [['Fulanito', 'm', 20, 1],\n",
       "  ['Sotanito', 'm', 19, 0],\n",
       "  ['Menganito', 'm', 21, 0],\n",
       "  ['Fulanita', 'f', 25, 1],\n",
       "  ['Sotanita', 'f', 17, 0],\n",
       "  ['Menganita', 'f', 18, 0]]}"
      ]
     },
     "execution_count": 26,
     "metadata": {},
     "output_type": "execute_result"
    }
   ],
   "source": [
    "def persones(fitxer):\n",
    "    f=open(fitxer,'r')\n",
    "    index=0\n",
    "    csv={}\n",
    "    for linea in f:\n",
    "        linea=linea.strip()\n",
    "        linea=linea.split(\";\")\n",
    "        if index==0:\n",
    "            csv[\"headers\"]=linea\n",
    "        elif index==1:\n",
    "            linea[2]=int(linea[2])\n",
    "            linea[3]=int(linea[3])\n",
    "            csv[\"data\"]=[linea]\n",
    "        else:\n",
    "            linea[2]=int(linea[2])\n",
    "            linea[3]=int(linea[3])\n",
    "            csv[\"data\"].append(linea)\n",
    "        index+=1\n",
    "    \n",
    "    return csv \n",
    "\n",
    "persones(\"persones.csv\")\n"
   ]
  },
  {
   "cell_type": "markdown",
   "metadata": {},
   "source": [
    "#### Apartat (c)"
   ]
  },
  {
   "cell_type": "code",
   "execution_count": 32,
   "metadata": {},
   "outputs": [
    {
     "data": {
      "text/plain": [
       "{'headers': ['nom', 'genere', 'edat', 'fuma'],\n",
       " 'data': [['Fulanito', 'm', 20, 1],\n",
       "  ['Sotanito', 'm', 19, 0],\n",
       "  ['Menganito', 'm', 21, 0],\n",
       "  ['Fulanita', 'f', 25, 1],\n",
       "  ['Sotanita', 'f', 17, 0],\n",
       "  ['Menganita', 'f', 18, 0]]}"
      ]
     },
     "execution_count": 32,
     "metadata": {},
     "output_type": "execute_result"
    }
   ],
   "source": [
    "def persones():\n",
    "    f=open(\"persones.csv\",'r')\n",
    "    index=0\n",
    "    csv={}\n",
    "    verif=True\n",
    "    for linea in f:\n",
    "        try:\n",
    "            linea=linea.strip()\n",
    "            linea=linea.split(\";\")\n",
    "            if index==0:\n",
    "                csv[\"headers\"]=linea\n",
    "            elif index==1:\n",
    "                linea[2]=int(linea[2])\n",
    "                linea[3]=int(linea[3])\n",
    "                csv[\"data\"]=[linea]\n",
    "            else:\n",
    "                linea[2]=int(linea[2])\n",
    "                linea[3]=int(linea[3])\n",
    "                csv[\"data\"].append(linea)\n",
    "            index+=1\n",
    "        except:\n",
    "            if verif:\n",
    "                print(\"ERRORS(linies):\")\n",
    "            print(f\"{index}. {linea}\")\n",
    "            verif=False\n",
    "        \n",
    "    return csv \n",
    "\n",
    "persones()"
   ]
  },
  {
   "cell_type": "markdown",
   "metadata": {},
   "source": [
    "#### Apartat (d)"
   ]
  },
  {
   "cell_type": "code",
   "execution_count": 34,
   "metadata": {},
   "outputs": [
    {
     "name": "stdout",
     "output_type": "stream",
     "text": [
      "['Fulanito', 'Sotanito', 'Menganito', 'Fulanita', 'Sotanita', 'Menganita']\n"
     ]
    }
   ],
   "source": [
    "def columna(col):\n",
    "    dic=persones()\n",
    "    lcol=[]\n",
    "    index=0\n",
    "    for i in range(len(dic[\"headers\"])):\n",
    "        if dic[\"headers\"][i]==col:\n",
    "            index=i \n",
    "            break\n",
    "    for p in dic[\"data\"]:\n",
    "        lcol.append(p[index])\n",
    "    return lcol\n",
    "\n",
    "print(columna(\"nom\"))"
   ]
  },
  {
   "cell_type": "code",
   "execution_count": 39,
   "metadata": {},
   "outputs": [
    {
     "name": "stdout",
     "output_type": "stream",
     "text": [
      "Nombre de fumadors: 2\n",
      "Nombre de menors d'edat: 1\n"
     ]
    }
   ],
   "source": [
    "def quantfuma():\n",
    "    llista=columna(\"fuma\")\n",
    "    suma=0\n",
    "    for l in llista:\n",
    "        suma+=l\n",
    "    return suma\n",
    "\n",
    "def gentmenor18():\n",
    "    llista=columna(\"edat\")\n",
    "    suma=0\n",
    "    for l in llista:\n",
    "        if l<18:\n",
    "            suma+=1\n",
    "    return suma\n",
    "\n",
    "print(\"Nombre de fumadors:\",quantfuma())\n",
    "print(\"Nombre de menors d'edat:\", gentmenor18())"
   ]
  },
  {
   "cell_type": "markdown",
   "metadata": {},
   "source": [
    "# Sessió repàs\n",
    "### DOMINÓ"
   ]
  },
  {
   "cell_type": "code",
   "execution_count": 3,
   "metadata": {},
   "outputs": [],
   "source": [
    "# Crear fitxer fitxes DOMINÓ\n",
    "\n",
    "f=open(\"domino_prog.txt\",'w')\n",
    "for i in range(7):\n",
    "    for j in range(7):\n",
    "        if i<=j:\n",
    "            f.write(str(i)+\" - \"+str(j))\n",
    "            if i==6 and j==6:\n",
    "                pass\n",
    "            else: f.write(\"\\n\")\n",
    "f.close()"
   ]
  },
  {
   "cell_type": "code",
   "execution_count": 28,
   "metadata": {},
   "outputs": [
    {
     "name": "stdout",
     "output_type": "stream",
     "text": [
      "Partida 1\n",
      "0-2\n",
      "\n",
      "Partida 2\n",
      "3-0 , 0-2\n",
      "\n",
      "Partida 3\n",
      "5-0 , 3-0 , 0-2\n",
      "\n",
      "Partida 4\n",
      "5-0 , 3-0 , 0-2 , 2-5\n",
      "\n",
      "Partida 5\n",
      "5-0 , 3-0 , 0-2 , 2-5 , 5-1\n",
      "\n",
      "Partida 6\n",
      "3-5 , 5-0 , 3-0 , 0-2 , 2-5 , 5-1\n",
      "\n",
      "Partida 7\n",
      "6-5 , 3-5 , 5-0 , 3-0 , 0-2 , 2-5 , 5-1\n",
      "\n",
      "Partida 8\n",
      "5-5 , 6-5 , 3-5 , 5-0 , 3-0 , 0-2 , 2-5 , 5-1\n",
      "\n",
      "Partida 9\n",
      "4-5 , 5-5 , 6-5 , 3-5 , 5-0 , 3-0 , 0-2 , 2-5 , 5-1\n",
      "\n",
      "Partida 10\n",
      "4-5 , 5-5 , 6-5 , 3-5 , 5-0 , 3-0 , 0-2 , 2-5 , 5-1 , 1-4\n",
      "\n",
      "Partida 11\n",
      "4-5 , 5-5 , 6-5 , 3-5 , 5-0 , 3-0 , 0-2 , 2-5 , 5-1 , 1-4 , 4-3\n",
      "\n",
      "Partida 12\n",
      "4-4 , 4-5 , 5-5 , 6-5 , 3-5 , 5-0 , 3-0 , 0-2 , 2-5 , 5-1 , 1-4 , 4-3\n",
      "\n",
      "Partida 13\n",
      "0-4 , 4-4 , 4-5 , 5-5 , 6-5 , 3-5 , 5-0 , 3-0 , 0-2 , 2-5 , 5-1 , 1-4 , 4-3\n",
      "\n",
      "Partida 14\n",
      "4-2 , 0-4 , 4-4 , 4-5 , 5-5 , 6-5 , 3-5 , 5-0 , 3-0 , 0-2 , 2-5 , 5-1 , 1-4 , 4-3\n",
      "\n",
      "Partida 15\n",
      "6-4 , 4-2 , 0-4 , 4-4 , 4-5 , 5-5 , 6-5 , 3-5 , 5-0 , 3-0 , 0-2 , 2-5 , 5-1 , 1-4 , 4-3\n",
      "\n",
      "Partida 16\n",
      "6-4 , 4-2 , 0-4 , 4-4 , 4-5 , 5-5 , 6-5 , 3-5 , 5-0 , 3-0 , 0-2 , 2-5 , 5-1 , 1-4 , 4-3 , 3-6\n",
      "\n",
      "Partida 17\n",
      "6-4 , 4-2 , 0-4 , 4-4 , 4-5 , 5-5 , 6-5 , 3-5 , 5-0 , 3-0 , 0-2 , 2-5 , 5-1 , 1-4 , 4-3 , 3-6 , 6-1\n",
      "\n",
      "Partida 18\n",
      "2-6 , 6-4 , 4-2 , 0-4 , 4-4 , 4-5 , 5-5 , 6-5 , 3-5 , 5-0 , 3-0 , 0-2 , 2-5 , 5-1 , 1-4 , 4-3 , 3-6 , 6-1\n",
      "\n",
      "Partida 19\n",
      "2-6 , 6-4 , 4-2 , 0-4 , 4-4 , 4-5 , 5-5 , 6-5 , 3-5 , 5-0 , 3-0 , 0-2 , 2-5 , 5-1 , 1-4 , 4-3 , 3-6 , 6-1 , 1-2\n",
      "\n",
      "Partida 20\n",
      "2-6 , 6-4 , 4-2 , 0-4 , 4-4 , 4-5 , 5-5 , 6-5 , 3-5 , 5-0 , 3-0 , 0-2 , 2-5 , 5-1 , 1-4 , 4-3 , 3-6 , 6-1 , 1-2 , 2-3\n",
      "\n",
      "Partida 21\n",
      "2-2 , 2-6 , 6-4 , 4-2 , 0-4 , 4-4 , 4-5 , 5-5 , 6-5 , 3-5 , 5-0 , 3-0 , 0-2 , 2-5 , 5-1 , 1-4 , 4-3 , 3-6 , 6-1 , 1-2 , 2-3\n",
      "\n",
      "No hi ha combinacions possibles per acabar la partida\n",
      "----------------\n",
      "Resultat partida\n",
      "----------------\n",
      "2-2 , 2-6 , 6-4 , 4-2 , 0-4 , 4-4 , 4-5 , 5-5 , 6-5 , 3-5 , 5-0 , 3-0 , 0-2 , 2-5 , 5-1 , 1-4 , 4-3 , 3-6 , 6-1 , 1-2 , 2-3\n",
      "\n"
     ]
    }
   ],
   "source": [
    "import random as rm\n",
    "\n",
    "\n",
    "class fitxa:\n",
    "    def __init__(self, x,y):\n",
    "        self.x=x\n",
    "        self.y=y\n",
    "        \n",
    "    def mostrar(self):\n",
    "        print(f\"{self.x}-{self.y}\",end=\"\")\n",
    "    \n",
    "    def girar(self):\n",
    "        return fitxa(self.y,self.x)\n",
    "        \n",
    "        \n",
    "def llegirfitxer(fitxer):\n",
    "    f=open(fitxer,'r')\n",
    "    llista=[]\n",
    "    for linia in f:\n",
    "        linia=linia.strip()\n",
    "        l=linia.split(' - ')\n",
    "        llista.append(fitxa(int(l[0]),int(l[1])))\n",
    "    return llista\n",
    "\n",
    "def fitxa_num(fitxa,num):\n",
    "    if fitxa.x==num or fitxa.y==num:\n",
    "        return True\n",
    "    else: return False\n",
    "    \n",
    "def fit_fit(fit1,fit2):\n",
    "    if fit1.x==fit2.x or fit1.y==fit2.x:\n",
    "        return True\n",
    "    elif fit1.x==fit2.y or fit1.y==fit2.y:\n",
    "        return True\n",
    "    else: return False\n",
    "\n",
    "def mostrarpartida(partida):\n",
    "    for i in range(len(partida)):\n",
    "        partida[i].mostrar()\n",
    "        if i<len(partida)-1:\n",
    "            print(\" , \",end=\"\")\n",
    "    print(\"\\n\")\n",
    "\n",
    "            \n",
    "def eliminar(llista, value):\n",
    "    for i in range(len(llista)):\n",
    "        if llista[i]==value:\n",
    "            llista.pop(i)\n",
    "            break\n",
    "\n",
    "\n",
    "    \n",
    "def encaixar(fitxes,partida,fit):\n",
    "    #hem de mirar la primera i l'última\n",
    "    if len(partida)==1:\n",
    "        if not fit_fit(partida[0],fit):\n",
    "            return False\n",
    "        else:\n",
    "            if partida[0].y==fit.x:\n",
    "                partida.append(fit)\n",
    "            elif partida[0].y==fit.y:\n",
    "                partida.append(fit.girar())\n",
    "            elif partida[0].x==fit.y:\n",
    "                partida.insert(0,fit)\n",
    "            else:\n",
    "                partida.insert(0,fit.girar())\n",
    "            \n",
    "            eliminar(fitxes,fit) #suposem que fit sempre es una fitxa de fitxes\n",
    "            return True\n",
    "    else:\n",
    "        if not (fit_fit(partida[0],fit) and fit_fit(partida[-1],fit)):\n",
    "            return False\n",
    "        else:\n",
    "            if partida[-1].y==fit.x:\n",
    "                partida.append(fit) \n",
    "            elif partida[-1].y==fit.y:\n",
    "                partida.append(fit.girar())\n",
    "            elif partida[0].x==fit.y:\n",
    "                partida.insert(0,fit)\n",
    "            else:\n",
    "                partida.insert(0,fit.girar())\n",
    "                \n",
    "            eliminar(fitxes,fit) #suposem que fit sempre es una fitxa de fitxes\n",
    "            return True\n",
    "        \n",
    "def encaixar2(fitxes,partida,fit):\n",
    "    #hem de mirar la primera i l'última\n",
    "    if len(partida)==1:\n",
    "        if not fit_fit(partida[0],fit):\n",
    "            return False\n",
    "        else:\n",
    "            if fitxa_num(fit,partida[0].y):\n",
    "                if partida[0].y==fit.x:\n",
    "                    partida.append(fit)\n",
    "                elif partida[0].y==fit.y:\n",
    "                    partida.append(fit.girar())\n",
    "            else:\n",
    "                if partida[0].x==fit.y:\n",
    "                    partida.insert(0,fit)\n",
    "                else:\n",
    "                    partida.insert(0,fit.girar())\n",
    "            \n",
    "            eliminar(fitxes,fit) #suposem que fit sempre es una fitxa de fitxes\n",
    "            return True\n",
    "    else:\n",
    "        if not (fit_fit(partida[0],fit) and fit_fit(partida[-1],fit)):\n",
    "            return False\n",
    "        else:\n",
    "            if partida[-1].y==fit.x:\n",
    "                partida.append(fit) \n",
    "            elif partida[-1].y==fit.y:\n",
    "                partida.append(fit.girar())\n",
    "            elif partida[0].x==fit.y:\n",
    "                partida.insert(0,fit)\n",
    "            else:\n",
    "                partida.insert(0,fit.girar())\n",
    "                \n",
    "            eliminar(fitxes,fit) #suposem que fit sempre es una fitxa de fitxes\n",
    "            return True\n",
    "\n",
    "        \n",
    "fitxes=llegirfitxer(\"domino_prog.txt\")\n",
    "quanfit=len(fitxes)\n",
    "partida=[]\n",
    "indicador = True\n",
    "for i in range(quanfit):\n",
    "    if i==0:\n",
    "        fit0=fitxes[rm.randint(0,quanfit-1)]\n",
    "        partida.append(fit0)\n",
    "        eliminar(fitxes,fit0)\n",
    "    else:\n",
    "        acum=[]\n",
    "        while True:\n",
    "            num=rm.randint(0,len(fitxes)-1)\n",
    "            fit=fitxes[num]\n",
    "            if encaixar(fitxes,partida,fit):\n",
    "                break\n",
    "            else:\n",
    "                if num not in acum:\n",
    "                    acum.append(num)\n",
    "            if len(acum)==len(fitxes):\n",
    "                print(\"No hi ha combinacions possibles per acabar la partida\")\n",
    "                indicador=False\n",
    "                break\n",
    "    if indicador:\n",
    "\n",
    "        print(f\"Partida {i+1}\")\n",
    "        mostrarpartida(partida) \n",
    "    else:\n",
    "        print(\"----------------\")\n",
    "        print(\"Resultat partida\")\n",
    "        print(\"----------------\")\n",
    "        mostrarpartida(partida)\n",
    "        break\n",
    "        \n",
    "\n",
    "        \n",
    "        \n",
    "        \n"
   ]
  },
  {
   "cell_type": "code",
   "execution_count": 17,
   "metadata": {},
   "outputs": [
    {
     "name": "stdout",
     "output_type": "stream",
     "text": [
      "28\n"
     ]
    }
   ],
   "source": [
    "print(quanfit)"
   ]
  },
  {
   "cell_type": "code",
   "execution_count": null,
   "metadata": {},
   "outputs": [],
   "source": []
  },
  {
   "cell_type": "code",
   "execution_count": null,
   "metadata": {},
   "outputs": [],
   "source": []
  },
  {
   "cell_type": "code",
   "execution_count": null,
   "metadata": {},
   "outputs": [],
   "source": []
  },
  {
   "cell_type": "code",
   "execution_count": null,
   "metadata": {},
   "outputs": [],
   "source": []
  },
  {
   "cell_type": "code",
   "execution_count": null,
   "metadata": {},
   "outputs": [],
   "source": []
  }
 ],
 "metadata": {
  "kernelspec": {
   "display_name": "Python 3",
   "language": "python",
   "name": "python3"
  },
  "language_info": {
   "codemirror_mode": {
    "name": "ipython",
    "version": 3
   },
   "file_extension": ".py",
   "mimetype": "text/x-python",
   "name": "python",
   "nbconvert_exporter": "python",
   "pygments_lexer": "ipython3",
   "version": "3.9.5"
  }
 },
 "nbformat": 4,
 "nbformat_minor": 4
}
